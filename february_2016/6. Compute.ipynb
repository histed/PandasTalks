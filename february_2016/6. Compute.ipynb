{
 "cells": [
  {
   "cell_type": "markdown",
   "metadata": {
    "slideshow": {
     "slide_type": "slide"
    }
   },
   "source": [
    "# Compute\n",
    "\n",
    "We oftentimes want to interact with other libraries and have them handle pandas objects."
   ]
  },
  {
   "cell_type": "markdown",
   "metadata": {
    "slideshow": {
     "slide_type": "subslide"
    }
   },
   "source": [
    "We are going to look at some interactions with:\n",
    "\n",
    "- ``scikit-learn``\n",
    "- ``statsmodels``\n",
    "- ``numba`` & ``cython``\n",
    "- ``dask``"
   ]
  },
  {
   "cell_type": "code",
   "execution_count": 1,
   "metadata": {
    "collapsed": false,
    "slideshow": {
     "slide_type": "subslide"
    }
   },
   "outputs": [],
   "source": [
    "import numpy as np\n",
    "import pandas as pd\n",
    "import seaborn as sns\n",
    "import matplotlib.pyplot as plt\n",
    "%matplotlib inline\n",
    "\n",
    "pd.options.display.max_rows = 8\n",
    "pd.options.display.max_columns = 8"
   ]
  },
  {
   "cell_type": "markdown",
   "metadata": {
    "collapsed": true,
    "slideshow": {
     "slide_type": "slide"
    }
   },
   "source": [
    "# Scikit-Learn\n",
    "\n",
    "http://scikit-learn.org/stable/documentation.html"
   ]
  },
  {
   "cell_type": "markdown",
   "metadata": {},
   "source": [
    "Scikit-Learn's algorithms all deal with numpy arrays. typically:\n",
    "\n",
    "- data munging in pandas\n",
    "- pass numpy array to an Estimator\n",
    "- wrap result in a DataFrame or Series"
   ]
  },
  {
   "cell_type": "code",
   "execution_count": 2,
   "metadata": {
    "collapsed": false
   },
   "outputs": [
    {
     "data": {
      "text/plain": [
       "'0.17'"
      ]
     },
     "execution_count": 2,
     "metadata": {},
     "output_type": "execute_result"
    }
   ],
   "source": [
    "import sklearn\n",
    "sklearn.__version__"
   ]
  },
  {
   "cell_type": "code",
   "execution_count": 3,
   "metadata": {
    "collapsed": false,
    "slideshow": {
     "slide_type": "fragment"
    }
   },
   "outputs": [],
   "source": [
    "from sklearn.datasets import california_housing\n",
    "data = california_housing.fetch_california_housing()"
   ]
  },
  {
   "cell_type": "code",
   "execution_count": 4,
   "metadata": {
    "collapsed": false,
    "slideshow": {
     "slide_type": "subslide"
    }
   },
   "outputs": [
    {
     "data": {
      "text/html": [
       "<div>\n",
       "<table border=\"1\" class=\"dataframe\">\n",
       "  <thead>\n",
       "    <tr style=\"text-align: right;\">\n",
       "      <th></th>\n",
       "      <th>MedInc</th>\n",
       "      <th>HouseAge</th>\n",
       "      <th>AveRooms</th>\n",
       "      <th>AveBedrms</th>\n",
       "      <th>Population</th>\n",
       "      <th>AveOccup</th>\n",
       "      <th>Latitude</th>\n",
       "      <th>Longitude</th>\n",
       "    </tr>\n",
       "  </thead>\n",
       "  <tbody>\n",
       "    <tr>\n",
       "      <th>0</th>\n",
       "      <td>8.3252</td>\n",
       "      <td>41.0</td>\n",
       "      <td>6.984127</td>\n",
       "      <td>1.023810</td>\n",
       "      <td>322.0</td>\n",
       "      <td>2.555556</td>\n",
       "      <td>37.88</td>\n",
       "      <td>-122.23</td>\n",
       "    </tr>\n",
       "    <tr>\n",
       "      <th>1</th>\n",
       "      <td>8.3014</td>\n",
       "      <td>21.0</td>\n",
       "      <td>6.238137</td>\n",
       "      <td>0.971880</td>\n",
       "      <td>2401.0</td>\n",
       "      <td>2.109842</td>\n",
       "      <td>37.86</td>\n",
       "      <td>-122.22</td>\n",
       "    </tr>\n",
       "    <tr>\n",
       "      <th>2</th>\n",
       "      <td>7.2574</td>\n",
       "      <td>52.0</td>\n",
       "      <td>8.288136</td>\n",
       "      <td>1.073446</td>\n",
       "      <td>496.0</td>\n",
       "      <td>2.802260</td>\n",
       "      <td>37.85</td>\n",
       "      <td>-122.24</td>\n",
       "    </tr>\n",
       "    <tr>\n",
       "      <th>3</th>\n",
       "      <td>5.6431</td>\n",
       "      <td>52.0</td>\n",
       "      <td>5.817352</td>\n",
       "      <td>1.073059</td>\n",
       "      <td>558.0</td>\n",
       "      <td>2.547945</td>\n",
       "      <td>37.85</td>\n",
       "      <td>-122.25</td>\n",
       "    </tr>\n",
       "    <tr>\n",
       "      <th>...</th>\n",
       "      <td>...</td>\n",
       "      <td>...</td>\n",
       "      <td>...</td>\n",
       "      <td>...</td>\n",
       "      <td>...</td>\n",
       "      <td>...</td>\n",
       "      <td>...</td>\n",
       "      <td>...</td>\n",
       "    </tr>\n",
       "    <tr>\n",
       "      <th>20636</th>\n",
       "      <td>2.5568</td>\n",
       "      <td>18.0</td>\n",
       "      <td>6.114035</td>\n",
       "      <td>1.315789</td>\n",
       "      <td>356.0</td>\n",
       "      <td>3.122807</td>\n",
       "      <td>39.49</td>\n",
       "      <td>-121.21</td>\n",
       "    </tr>\n",
       "    <tr>\n",
       "      <th>20637</th>\n",
       "      <td>1.7000</td>\n",
       "      <td>17.0</td>\n",
       "      <td>5.205543</td>\n",
       "      <td>1.120092</td>\n",
       "      <td>1007.0</td>\n",
       "      <td>2.325635</td>\n",
       "      <td>39.43</td>\n",
       "      <td>-121.22</td>\n",
       "    </tr>\n",
       "    <tr>\n",
       "      <th>20638</th>\n",
       "      <td>1.8672</td>\n",
       "      <td>18.0</td>\n",
       "      <td>5.329513</td>\n",
       "      <td>1.171920</td>\n",
       "      <td>741.0</td>\n",
       "      <td>2.123209</td>\n",
       "      <td>39.43</td>\n",
       "      <td>-121.32</td>\n",
       "    </tr>\n",
       "    <tr>\n",
       "      <th>20639</th>\n",
       "      <td>2.3886</td>\n",
       "      <td>16.0</td>\n",
       "      <td>5.254717</td>\n",
       "      <td>1.162264</td>\n",
       "      <td>1387.0</td>\n",
       "      <td>2.616981</td>\n",
       "      <td>39.37</td>\n",
       "      <td>-121.24</td>\n",
       "    </tr>\n",
       "  </tbody>\n",
       "</table>\n",
       "<p>20640 rows × 8 columns</p>\n",
       "</div>"
      ],
      "text/plain": [
       "       MedInc  HouseAge  AveRooms  AveBedrms  Population  AveOccup  Latitude  Longitude\n",
       "0      8.3252      41.0  6.984127   1.023810       322.0  2.555556     37.88    -122.23\n",
       "1      8.3014      21.0  6.238137   0.971880      2401.0  2.109842     37.86    -122.22\n",
       "2      7.2574      52.0  8.288136   1.073446       496.0  2.802260     37.85    -122.24\n",
       "3      5.6431      52.0  5.817352   1.073059       558.0  2.547945     37.85    -122.25\n",
       "...       ...       ...       ...        ...         ...       ...       ...        ...\n",
       "20636  2.5568      18.0  6.114035   1.315789       356.0  3.122807     39.49    -121.21\n",
       "20637  1.7000      17.0  5.205543   1.120092      1007.0  2.325635     39.43    -121.22\n",
       "20638  1.8672      18.0  5.329513   1.171920       741.0  2.123209     39.43    -121.32\n",
       "20639  2.3886      16.0  5.254717   1.162264      1387.0  2.616981     39.37    -121.24\n",
       "\n",
       "[20640 rows x 8 columns]"
      ]
     },
     "execution_count": 4,
     "metadata": {},
     "output_type": "execute_result"
    }
   ],
   "source": [
    "X = pd.DataFrame(data.data, columns=data.feature_names)\n",
    "X"
   ]
  },
  {
   "cell_type": "code",
   "execution_count": 5,
   "metadata": {
    "collapsed": false,
    "slideshow": {
     "slide_type": "subslide"
    }
   },
   "outputs": [
    {
     "data": {
      "text/plain": [
       "0        4.526\n",
       "1        3.585\n",
       "2        3.521\n",
       "3        3.413\n",
       "         ...  \n",
       "20636    0.771\n",
       "20637    0.923\n",
       "20638    0.847\n",
       "20639    0.894\n",
       "dtype: float64"
      ]
     },
     "execution_count": 5,
     "metadata": {},
     "output_type": "execute_result"
    }
   ],
   "source": [
    "y = pd.Series(data.target)\n",
    "y"
   ]
  },
  {
   "cell_type": "code",
   "execution_count": 6,
   "metadata": {
    "collapsed": false,
    "slideshow": {
     "slide_type": "subslide"
    }
   },
   "outputs": [],
   "source": [
    "from sklearn.ensemble import RandomForestRegressor\n",
    "from sklearn.grid_search import GridSearchCV"
   ]
  },
  {
   "cell_type": "code",
   "execution_count": 7,
   "metadata": {
    "collapsed": false
   },
   "outputs": [
    {
     "name": "stdout",
     "output_type": "stream",
     "text": [
      "CPU times: user 818 ms, sys: 152 ms, total: 971 ms\n",
      "Wall time: 7.03 s\n"
     ]
    }
   ],
   "source": [
    "%%time\n",
    "param_grid = dict(\n",
    "    max_features=np.arange(2, 8),\n",
    "    max_depth=[2, 4],\n",
    "    min_samples_split=[5, 10, 15, 20],\n",
    ")\n",
    "rfc = RandomForestRegressor(n_estimators=10)\n",
    "gs = GridSearchCV(rfc, param_grid, cv=5, n_jobs=-1)\n",
    "gs.fit(X.values, y.values)"
   ]
  },
  {
   "cell_type": "code",
   "execution_count": 8,
   "metadata": {
    "collapsed": false,
    "slideshow": {
     "slide_type": "subslide"
    }
   },
   "outputs": [
    {
     "data": {
      "text/plain": [
       "[mean: 0.26336, std: 0.06788, params: {'max_features': 2, 'max_depth': 2, 'min_samples_split': 5},\n",
       " mean: 0.23969, std: 0.05387, params: {'max_features': 2, 'max_depth': 2, 'min_samples_split': 10},\n",
       " mean: 0.22750, std: 0.05814, params: {'max_features': 2, 'max_depth': 2, 'min_samples_split': 15},\n",
       " mean: 0.24056, std: 0.09769, params: {'max_features': 2, 'max_depth': 2, 'min_samples_split': 20},\n",
       " mean: 0.27939, std: 0.06192, params: {'max_features': 3, 'max_depth': 2, 'min_samples_split': 5},\n",
       " mean: 0.31228, std: 0.07706, params: {'max_features': 3, 'max_depth': 2, 'min_samples_split': 10},\n",
       " mean: 0.31628, std: 0.08234, params: {'max_features': 3, 'max_depth': 2, 'min_samples_split': 15},\n",
       " mean: 0.30128, std: 0.07431, params: {'max_features': 3, 'max_depth': 2, 'min_samples_split': 20},\n",
       " mean: 0.39416, std: 0.09287, params: {'max_features': 4, 'max_depth': 2, 'min_samples_split': 5},\n",
       " mean: 0.37115, std: 0.07533, params: {'max_features': 4, 'max_depth': 2, 'min_samples_split': 10}]"
      ]
     },
     "execution_count": 8,
     "metadata": {},
     "output_type": "execute_result"
    }
   ],
   "source": [
    "scores = gs.grid_scores_\n",
    "scores[:10]"
   ]
  },
  {
   "cell_type": "code",
   "execution_count": 9,
   "metadata": {
    "collapsed": true,
    "slideshow": {
     "slide_type": "subslide"
    }
   },
   "outputs": [],
   "source": [
    "def unpack_grid_scores(scores):\n",
    "    rows = []\n",
    "    params = sorted(scores[0].parameters)\n",
    "    for row in scores:\n",
    "        mean = row.mean_validation_score\n",
    "        std = row.cv_validation_scores.std()\n",
    "        rows.append([mean, std] + [row.parameters[k] for k in params])\n",
    "    return pd.DataFrame(rows, columns=['mean_', 'std_'] + params)"
   ]
  },
  {
   "cell_type": "code",
   "execution_count": 10,
   "metadata": {
    "collapsed": false
   },
   "outputs": [
    {
     "data": {
      "text/html": [
       "<div>\n",
       "<table border=\"1\" class=\"dataframe\">\n",
       "  <thead>\n",
       "    <tr style=\"text-align: right;\">\n",
       "      <th></th>\n",
       "      <th>mean_</th>\n",
       "      <th>std_</th>\n",
       "      <th>max_depth</th>\n",
       "      <th>max_features</th>\n",
       "      <th>min_samples_split</th>\n",
       "    </tr>\n",
       "  </thead>\n",
       "  <tbody>\n",
       "    <tr>\n",
       "      <th>0</th>\n",
       "      <td>0.263363</td>\n",
       "      <td>0.067878</td>\n",
       "      <td>2</td>\n",
       "      <td>2</td>\n",
       "      <td>5</td>\n",
       "    </tr>\n",
       "    <tr>\n",
       "      <th>1</th>\n",
       "      <td>0.239694</td>\n",
       "      <td>0.053866</td>\n",
       "      <td>2</td>\n",
       "      <td>2</td>\n",
       "      <td>10</td>\n",
       "    </tr>\n",
       "    <tr>\n",
       "      <th>2</th>\n",
       "      <td>0.227503</td>\n",
       "      <td>0.058143</td>\n",
       "      <td>2</td>\n",
       "      <td>2</td>\n",
       "      <td>15</td>\n",
       "    </tr>\n",
       "    <tr>\n",
       "      <th>3</th>\n",
       "      <td>0.240563</td>\n",
       "      <td>0.097688</td>\n",
       "      <td>2</td>\n",
       "      <td>2</td>\n",
       "      <td>20</td>\n",
       "    </tr>\n",
       "    <tr>\n",
       "      <th>...</th>\n",
       "      <td>...</td>\n",
       "      <td>...</td>\n",
       "      <td>...</td>\n",
       "      <td>...</td>\n",
       "      <td>...</td>\n",
       "    </tr>\n",
       "    <tr>\n",
       "      <th>44</th>\n",
       "      <td>0.530459</td>\n",
       "      <td>0.070902</td>\n",
       "      <td>4</td>\n",
       "      <td>7</td>\n",
       "      <td>5</td>\n",
       "    </tr>\n",
       "    <tr>\n",
       "      <th>45</th>\n",
       "      <td>0.535581</td>\n",
       "      <td>0.069776</td>\n",
       "      <td>4</td>\n",
       "      <td>7</td>\n",
       "      <td>10</td>\n",
       "    </tr>\n",
       "    <tr>\n",
       "      <th>46</th>\n",
       "      <td>0.526798</td>\n",
       "      <td>0.065765</td>\n",
       "      <td>4</td>\n",
       "      <td>7</td>\n",
       "      <td>15</td>\n",
       "    </tr>\n",
       "    <tr>\n",
       "      <th>47</th>\n",
       "      <td>0.535581</td>\n",
       "      <td>0.069776</td>\n",
       "      <td>4</td>\n",
       "      <td>7</td>\n",
       "      <td>20</td>\n",
       "    </tr>\n",
       "  </tbody>\n",
       "</table>\n",
       "<p>48 rows × 5 columns</p>\n",
       "</div>"
      ],
      "text/plain": [
       "       mean_      std_  max_depth  max_features  min_samples_split\n",
       "0   0.263363  0.067878          2             2                  5\n",
       "1   0.239694  0.053866          2             2                 10\n",
       "2   0.227503  0.058143          2             2                 15\n",
       "3   0.240563  0.097688          2             2                 20\n",
       "..       ...       ...        ...           ...                ...\n",
       "44  0.530459  0.070902          4             7                  5\n",
       "45  0.535581  0.069776          4             7                 10\n",
       "46  0.526798  0.065765          4             7                 15\n",
       "47  0.535581  0.069776          4             7                 20\n",
       "\n",
       "[48 rows x 5 columns]"
      ]
     },
     "execution_count": 10,
     "metadata": {},
     "output_type": "execute_result"
    }
   ],
   "source": [
    "scores = unpack_grid_scores(gs.grid_scores_)\n",
    "scores"
   ]
  },
  {
   "cell_type": "code",
   "execution_count": 55,
   "metadata": {
    "collapsed": false,
    "slideshow": {
     "slide_type": "subslide"
    }
   },
   "outputs": [
    {
     "data": {
      "text/plain": [
       "<seaborn.axisgrid.FacetGrid at 0x12442b7f0>"
      ]
     },
     "execution_count": 55,
     "metadata": {},
     "output_type": "execute_result"
    },
    {
     "data": {
      "image/png": "[encoded data removed]",
      "text/plain": [
       "<matplotlib.figure.Figure at 0x12442b898>"
      ]
     },
     "metadata": {},
     "output_type": "display_data"
    }
   ],
   "source": [
    "(scores\n",
    "       .pipe((sns.factorplot,'data'), \n",
    "             x='max_features', \n",
    "             y='mean_', \n",
    "             hue='max_depth', \n",
    "             col='min_samples_split')\n",
    " )"
   ]
  },
  {
   "cell_type": "code",
   "execution_count": 12,
   "metadata": {
    "collapsed": false,
    "slideshow": {
     "slide_type": "subslide"
    }
   },
   "outputs": [
    {
     "data": {
      "text/plain": [
       "<matplotlib.axes._subplots.AxesSubplot at 0x11c8a61d0>"
      ]
     },
     "execution_count": 12,
     "metadata": {},
     "output_type": "execute_result"
    },
    {
     "data": {
      "image/png": "[encoded data removed]",
      "text/plain": [
       "<matplotlib.figure.Figure at 0x11c8bb0b8>"
      ]
     },
     "metadata": {},
     "output_type": "display_data"
    }
   ],
   "source": [
    "s = pd.Series(gs.best_estimator_.feature_importances_,index=X.columns)\n",
    "(s.sort_values()\n",
    "  .plot\n",
    "  .barh(figsize=(5,8))\n",
    ")"
   ]
  },
  {
   "cell_type": "markdown",
   "metadata": {
    "slideshow": {
     "slide_type": "slide"
    }
   },
   "source": [
    "# Statsmodels\n",
    "\n",
    "http://statsmodels.sourceforge.net/"
   ]
  },
  {
   "cell_type": "code",
   "execution_count": 13,
   "metadata": {
    "collapsed": false,
    "slideshow": {
     "slide_type": "fragment"
    }
   },
   "outputs": [
    {
     "data": {
      "text/plain": [
       "'0.6.1'"
      ]
     },
     "execution_count": 13,
     "metadata": {},
     "output_type": "execute_result"
    }
   ],
   "source": [
    "import statsmodels\n",
    "import statsmodels.api as sm\n",
    "statsmodels.__version__"
   ]
  },
  {
   "cell_type": "code",
   "execution_count": 14,
   "metadata": {
    "collapsed": false,
    "slideshow": {
     "slide_type": "subslide"
    }
   },
   "outputs": [
    {
     "data": {
      "text/html": [
       "<div>\n",
       "<table border=\"1\" class=\"dataframe\">\n",
       "  <thead>\n",
       "    <tr style=\"text-align: right;\">\n",
       "      <th></th>\n",
       "      <th>date</th>\n",
       "      <th>away_team</th>\n",
       "      <th>away_points</th>\n",
       "      <th>home_team</th>\n",
       "      <th>...</th>\n",
       "      <th>away_strength</th>\n",
       "      <th>home_strength</th>\n",
       "      <th>away_rest</th>\n",
       "      <th>home_rest</th>\n",
       "    </tr>\n",
       "    <tr>\n",
       "      <th>game_id</th>\n",
       "      <th></th>\n",
       "      <th></th>\n",
       "      <th></th>\n",
       "      <th></th>\n",
       "      <th></th>\n",
       "      <th></th>\n",
       "      <th></th>\n",
       "      <th></th>\n",
       "      <th></th>\n",
       "    </tr>\n",
       "  </thead>\n",
       "  <tbody>\n",
       "    <tr>\n",
       "      <th>0</th>\n",
       "      <td>2014-10-28 22:30:00</td>\n",
       "      <td>Houston Rockets</td>\n",
       "      <td>108.0</td>\n",
       "      <td>Los Angeles Lakers</td>\n",
       "      <td>...</td>\n",
       "      <td>0.682927</td>\n",
       "      <td>0.256098</td>\n",
       "      <td>NaN</td>\n",
       "      <td>NaN</td>\n",
       "    </tr>\n",
       "    <tr>\n",
       "      <th>1</th>\n",
       "      <td>2014-10-28 20:00:00</td>\n",
       "      <td>Orlando Magic</td>\n",
       "      <td>84.0</td>\n",
       "      <td>New Orleans Pelicans</td>\n",
       "      <td>...</td>\n",
       "      <td>0.304878</td>\n",
       "      <td>0.548780</td>\n",
       "      <td>NaN</td>\n",
       "      <td>NaN</td>\n",
       "    </tr>\n",
       "    <tr>\n",
       "      <th>2</th>\n",
       "      <td>2014-10-28 20:00:00</td>\n",
       "      <td>Dallas Mavericks</td>\n",
       "      <td>100.0</td>\n",
       "      <td>San Antonio Spurs</td>\n",
       "      <td>...</td>\n",
       "      <td>0.609756</td>\n",
       "      <td>0.670732</td>\n",
       "      <td>NaN</td>\n",
       "      <td>NaN</td>\n",
       "    </tr>\n",
       "    <tr>\n",
       "      <th>3</th>\n",
       "      <td>2014-10-29 19:30:00</td>\n",
       "      <td>Brooklyn Nets</td>\n",
       "      <td>105.0</td>\n",
       "      <td>Boston Celtics</td>\n",
       "      <td>...</td>\n",
       "      <td>0.463415</td>\n",
       "      <td>0.487805</td>\n",
       "      <td>NaN</td>\n",
       "      <td>NaN</td>\n",
       "    </tr>\n",
       "    <tr>\n",
       "      <th>...</th>\n",
       "      <td>...</td>\n",
       "      <td>...</td>\n",
       "      <td>...</td>\n",
       "      <td>...</td>\n",
       "      <td>...</td>\n",
       "      <td>...</td>\n",
       "      <td>...</td>\n",
       "      <td>...</td>\n",
       "      <td>...</td>\n",
       "    </tr>\n",
       "    <tr>\n",
       "      <th>1232</th>\n",
       "      <td>2015-04-15 20:00:00</td>\n",
       "      <td>San Antonio Spurs</td>\n",
       "      <td>103.0</td>\n",
       "      <td>New Orleans Pelicans</td>\n",
       "      <td>...</td>\n",
       "      <td>0.670732</td>\n",
       "      <td>0.548780</td>\n",
       "      <td>2.0</td>\n",
       "      <td>1.0</td>\n",
       "    </tr>\n",
       "    <tr>\n",
       "      <th>1233</th>\n",
       "      <td>2015-04-15 20:00:00</td>\n",
       "      <td>Detroit Pistons</td>\n",
       "      <td>112.0</td>\n",
       "      <td>New York Knicks</td>\n",
       "      <td>...</td>\n",
       "      <td>0.390244</td>\n",
       "      <td>0.207317</td>\n",
       "      <td>1.0</td>\n",
       "      <td>1.0</td>\n",
       "    </tr>\n",
       "    <tr>\n",
       "      <th>1234</th>\n",
       "      <td>2015-04-15 20:00:00</td>\n",
       "      <td>Miami Heat</td>\n",
       "      <td>105.0</td>\n",
       "      <td>Philadelphia 76ers</td>\n",
       "      <td>...</td>\n",
       "      <td>0.451220</td>\n",
       "      <td>0.219512</td>\n",
       "      <td>1.0</td>\n",
       "      <td>1.0</td>\n",
       "    </tr>\n",
       "    <tr>\n",
       "      <th>1235</th>\n",
       "      <td>2015-04-15 19:00:00</td>\n",
       "      <td>Charlotte Hornets</td>\n",
       "      <td>87.0</td>\n",
       "      <td>Toronto Raptors</td>\n",
       "      <td>...</td>\n",
       "      <td>0.402439</td>\n",
       "      <td>0.597561</td>\n",
       "      <td>1.0</td>\n",
       "      <td>-1.0</td>\n",
       "    </tr>\n",
       "  </tbody>\n",
       "</table>\n",
       "<p>1236 rows × 10 columns</p>\n",
       "</div>"
      ],
      "text/plain": [
       "                       date          away_team  away_points             home_team    ...      away_strength home_strength  away_rest  home_rest\n",
       "game_id                                                                              ...                                                       \n",
       "0       2014-10-28 22:30:00    Houston Rockets        108.0    Los Angeles Lakers    ...           0.682927      0.256098        NaN        NaN\n",
       "1       2014-10-28 20:00:00      Orlando Magic         84.0  New Orleans Pelicans    ...           0.304878      0.548780        NaN        NaN\n",
       "2       2014-10-28 20:00:00   Dallas Mavericks        100.0     San Antonio Spurs    ...           0.609756      0.670732        NaN        NaN\n",
       "3       2014-10-29 19:30:00      Brooklyn Nets        105.0        Boston Celtics    ...           0.463415      0.487805        NaN        NaN\n",
       "...                     ...                ...          ...                   ...    ...                ...           ...        ...        ...\n",
       "1232    2015-04-15 20:00:00  San Antonio Spurs        103.0  New Orleans Pelicans    ...           0.670732      0.548780        2.0        1.0\n",
       "1233    2015-04-15 20:00:00    Detroit Pistons        112.0       New York Knicks    ...           0.390244      0.207317        1.0        1.0\n",
       "1234    2015-04-15 20:00:00         Miami Heat        105.0    Philadelphia 76ers    ...           0.451220      0.219512        1.0        1.0\n",
       "1235    2015-04-15 19:00:00  Charlotte Hornets         87.0       Toronto Raptors    ...           0.402439      0.597561        1.0       -1.0\n",
       "\n",
       "[1236 rows x 10 columns]"
      ]
     },
     "execution_count": 14,
     "metadata": {},
     "output_type": "execute_result"
    }
   ],
   "source": [
    "# created in 4. Tidy Data\n",
    "df = pd.read_hdf('data/games.hdf','df')\n",
    "df"
   ]
  },
  {
   "cell_type": "code",
   "execution_count": 15,
   "metadata": {
    "collapsed": false,
    "slideshow": {
     "slide_type": "subslide"
    }
   },
   "outputs": [
    {
     "name": "stdout",
     "output_type": "stream",
     "text": [
      "<class 'pandas.core.frame.DataFrame'>\n",
      "Int64Index: 1236 entries, 0 to 1235\n",
      "Data columns (total 10 columns):\n",
      "date             1230 non-null datetime64[ns]\n",
      "away_team        1230 non-null object\n",
      "away_points      1230 non-null float64\n",
      "home_team        1230 non-null object\n",
      "home_points      1230 non-null float64\n",
      "home_win         1236 non-null bool\n",
      "away_strength    1230 non-null float64\n",
      "home_strength    1230 non-null float64\n",
      "away_rest        1217 non-null float64\n",
      "home_rest        1213 non-null float64\n",
      "dtypes: bool(1), datetime64[ns](1), float64(6), object(2)\n",
      "memory usage: 97.8+ KB\n"
     ]
    }
   ],
   "source": [
    "df.info()"
   ]
  },
  {
   "cell_type": "code",
   "execution_count": 16,
   "metadata": {
    "collapsed": true,
    "slideshow": {
     "slide_type": "fragment"
    }
   },
   "outputs": [],
   "source": [
    "df['home_win'] = df.home_win.astype(int)"
   ]
  },
  {
   "cell_type": "code",
   "execution_count": 17,
   "metadata": {
    "collapsed": false,
    "slideshow": {
     "slide_type": "subslide"
    }
   },
   "outputs": [
    {
     "name": "stdout",
     "output_type": "stream",
     "text": [
      "Optimization terminated successfully.\n",
      "         Current function value: 0.564584\n",
      "         Iterations 6\n"
     ]
    }
   ],
   "source": [
    "f ='home_win ~ home_strength + away_strength + home_rest + away_rest'\n",
    "res = (sm\n",
    "         .Logit\n",
    "         .from_formula(f, df)\n",
    "         .fit()\n",
    ")"
   ]
  },
  {
   "cell_type": "code",
   "execution_count": 18,
   "metadata": {
    "collapsed": false,
    "slideshow": {
     "slide_type": "subslide"
    }
   },
   "outputs": [
    {
     "data": {
      "text/html": [
       "<table class=\"simpletable\">\n",
       "<caption>Logit Regression Results</caption>\n",
       "<tr>\n",
       "  <th>Dep. Variable:</th>     <td>home_win</td>     <th>  No. Observations:  </th>  <td>  1213</td>  \n",
       "</tr>\n",
       "<tr>\n",
       "  <th>Model:</th>               <td>Logit</td>      <th>  Df Residuals:      </th>  <td>  1208</td>  \n",
       "</tr>\n",
       "<tr>\n",
       "  <th>Method:</th>               <td>MLE</td>       <th>  Df Model:          </th>  <td>     4</td>  \n",
       "</tr>\n",
       "<tr>\n",
       "  <th>Date:</th>          <td>Thu, 18 Feb 2016</td> <th>  Pseudo R-squ.:     </th>  <td>0.1727</td>  \n",
       "</tr>\n",
       "<tr>\n",
       "  <th>Time:</th>              <td>13:41:05</td>     <th>  Log-Likelihood:    </th> <td> -684.84</td> \n",
       "</tr>\n",
       "<tr>\n",
       "  <th>converged:</th>           <td>True</td>       <th>  LL-Null:           </th> <td> -827.83</td> \n",
       "</tr>\n",
       "<tr>\n",
       "  <th> </th>                      <td> </td>        <th>  LLR p-value:       </th> <td>1.148e-60</td>\n",
       "</tr>\n",
       "</table>\n",
       "<table class=\"simpletable\">\n",
       "<tr>\n",
       "        <td></td>           <th>coef</th>     <th>std err</th>      <th>z</th>      <th>P>|z|</th> <th>[95.0% Conf. Int.]</th> \n",
       "</tr>\n",
       "<tr>\n",
       "  <th>Intercept</th>     <td>   -0.3254</td> <td>    0.296</td> <td>   -1.098</td> <td> 0.272</td> <td>   -0.906     0.255</td>\n",
       "</tr>\n",
       "<tr>\n",
       "  <th>home_strength</th> <td>    5.5558</td> <td>    0.449</td> <td>   12.374</td> <td> 0.000</td> <td>    4.676     6.436</td>\n",
       "</tr>\n",
       "<tr>\n",
       "  <th>away_strength</th> <td>   -4.3365</td> <td>    0.442</td> <td>   -9.817</td> <td> 0.000</td> <td>   -5.202    -3.471</td>\n",
       "</tr>\n",
       "<tr>\n",
       "  <th>home_rest</th>     <td>    0.1215</td> <td>    0.063</td> <td>    1.944</td> <td> 0.052</td> <td>   -0.001     0.244</td>\n",
       "</tr>\n",
       "<tr>\n",
       "  <th>away_rest</th>     <td>   -0.0411</td> <td>    0.061</td> <td>   -0.669</td> <td> 0.503</td> <td>   -0.161     0.079</td>\n",
       "</tr>\n",
       "</table>"
      ],
      "text/plain": [
       "<class 'statsmodels.iolib.summary.Summary'>\n",
       "\"\"\"\n",
       "                           Logit Regression Results                           \n",
       "==============================================================================\n",
       "Dep. Variable:               home_win   No. Observations:                 1213\n",
       "Model:                          Logit   Df Residuals:                     1208\n",
       "Method:                           MLE   Df Model:                            4\n",
       "Date:                Thu, 18 Feb 2016   Pseudo R-squ.:                  0.1727\n",
       "Time:                        13:41:05   Log-Likelihood:                -684.84\n",
       "converged:                       True   LL-Null:                       -827.83\n",
       "                                        LLR p-value:                 1.148e-60\n",
       "=================================================================================\n",
       "                    coef    std err          z      P>|z|      [95.0% Conf. Int.]\n",
       "---------------------------------------------------------------------------------\n",
       "Intercept        -0.3254      0.296     -1.098      0.272        -0.906     0.255\n",
       "home_strength     5.5558      0.449     12.374      0.000         4.676     6.436\n",
       "away_strength    -4.3365      0.442     -9.817      0.000        -5.202    -3.471\n",
       "home_rest         0.1215      0.063      1.944      0.052        -0.001     0.244\n",
       "away_rest        -0.0411      0.061     -0.669      0.503        -0.161     0.079\n",
       "=================================================================================\n",
       "\"\"\""
      ]
     },
     "execution_count": 18,
     "metadata": {},
     "output_type": "execute_result"
    }
   ],
   "source": [
    "res.summary()"
   ]
  },
  {
   "cell_type": "code",
   "execution_count": 19,
   "metadata": {
    "collapsed": false,
    "slideshow": {
     "slide_type": "subslide"
    }
   },
   "outputs": [],
   "source": [
    "df2 = df.assign(rest_difference=df.home_rest - df.away_rest,\n",
    "                spread=df.home_points - df.away_points)\n",
    "\n",
    "f = 'spread ~ home_strength + away_strength + rest_difference'\n",
    "res = (sm\n",
    "         .OLS\n",
    "         .from_formula(f, df2)\n",
    "         .fit()\n",
    "       )"
   ]
  },
  {
   "cell_type": "code",
   "execution_count": 20,
   "metadata": {
    "collapsed": false,
    "slideshow": {
     "slide_type": "subslide"
    }
   },
   "outputs": [
    {
     "data": {
      "text/html": [
       "<table class=\"simpletable\">\n",
       "<caption>OLS Regression Results</caption>\n",
       "<tr>\n",
       "  <th>Dep. Variable:</th>         <td>spread</td>      <th>  R-squared:         </th> <td>   0.236</td>\n",
       "</tr>\n",
       "<tr>\n",
       "  <th>Model:</th>                   <td>OLS</td>       <th>  Adj. R-squared:    </th> <td>   0.234</td>\n",
       "</tr>\n",
       "<tr>\n",
       "  <th>Method:</th>             <td>Least Squares</td>  <th>  F-statistic:       </th> <td>   124.6</td>\n",
       "</tr>\n",
       "<tr>\n",
       "  <th>Date:</th>             <td>Thu, 18 Feb 2016</td> <th>  Prob (F-statistic):</th> <td>2.57e-70</td>\n",
       "</tr>\n",
       "<tr>\n",
       "  <th>Time:</th>                 <td>13:41:05</td>     <th>  Log-Likelihood:    </th> <td> -4712.1</td>\n",
       "</tr>\n",
       "<tr>\n",
       "  <th>No. Observations:</th>      <td>  1213</td>      <th>  AIC:               </th> <td>   9432.</td>\n",
       "</tr>\n",
       "<tr>\n",
       "  <th>Df Residuals:</th>          <td>  1209</td>      <th>  BIC:               </th> <td>   9453.</td>\n",
       "</tr>\n",
       "<tr>\n",
       "  <th>Df Model:</th>              <td>     3</td>      <th>                     </th>     <td> </td>   \n",
       "</tr>\n",
       "<tr>\n",
       "  <th>Covariance Type:</th>      <td>nonrobust</td>    <th>                     </th>     <td> </td>   \n",
       "</tr>\n",
       "</table>\n",
       "<table class=\"simpletable\">\n",
       "<tr>\n",
       "         <td></td>            <th>coef</th>     <th>std err</th>      <th>t</th>      <th>P>|t|</th> <th>[95.0% Conf. Int.]</th> \n",
       "</tr>\n",
       "<tr>\n",
       "  <th>Intercept</th>       <td>   -0.4035</td> <td>    1.546</td> <td>   -0.261</td> <td> 0.794</td> <td>   -3.437     2.630</td>\n",
       "</tr>\n",
       "<tr>\n",
       "  <th>home_strength</th>   <td>   30.8045</td> <td>    2.097</td> <td>   14.687</td> <td> 0.000</td> <td>   26.689    34.919</td>\n",
       "</tr>\n",
       "<tr>\n",
       "  <th>away_strength</th>   <td>  -25.6003</td> <td>    2.105</td> <td>  -12.159</td> <td> 0.000</td> <td>  -29.731   -21.470</td>\n",
       "</tr>\n",
       "<tr>\n",
       "  <th>rest_difference</th> <td>    0.5745</td> <td>    0.278</td> <td>    2.064</td> <td> 0.039</td> <td>    0.028     1.121</td>\n",
       "</tr>\n",
       "</table>\n",
       "<table class=\"simpletable\">\n",
       "<tr>\n",
       "  <th>Omnibus:</th>       <td> 9.335</td> <th>  Durbin-Watson:     </th> <td>   1.997</td>\n",
       "</tr>\n",
       "<tr>\n",
       "  <th>Prob(Omnibus):</th> <td> 0.009</td> <th>  Jarque-Bera (JB):  </th> <td>  11.716</td>\n",
       "</tr>\n",
       "<tr>\n",
       "  <th>Skew:</th>          <td> 0.099</td> <th>  Prob(JB):          </th> <td> 0.00286</td>\n",
       "</tr>\n",
       "<tr>\n",
       "  <th>Kurtosis:</th>      <td> 3.438</td> <th>  Cond. No.          </th> <td>    10.9</td>\n",
       "</tr>\n",
       "</table>"
      ],
      "text/plain": [
       "<class 'statsmodels.iolib.summary.Summary'>\n",
       "\"\"\"\n",
       "                            OLS Regression Results                            \n",
       "==============================================================================\n",
       "Dep. Variable:                 spread   R-squared:                       0.236\n",
       "Model:                            OLS   Adj. R-squared:                  0.234\n",
       "Method:                 Least Squares   F-statistic:                     124.6\n",
       "Date:                Thu, 18 Feb 2016   Prob (F-statistic):           2.57e-70\n",
       "Time:                        13:41:05   Log-Likelihood:                -4712.1\n",
       "No. Observations:                1213   AIC:                             9432.\n",
       "Df Residuals:                    1209   BIC:                             9453.\n",
       "Df Model:                           3                                         \n",
       "Covariance Type:            nonrobust                                         \n",
       "===================================================================================\n",
       "                      coef    std err          t      P>|t|      [95.0% Conf. Int.]\n",
       "-----------------------------------------------------------------------------------\n",
       "Intercept          -0.4035      1.546     -0.261      0.794        -3.437     2.630\n",
       "home_strength      30.8045      2.097     14.687      0.000        26.689    34.919\n",
       "away_strength     -25.6003      2.105    -12.159      0.000       -29.731   -21.470\n",
       "rest_difference     0.5745      0.278      2.064      0.039         0.028     1.121\n",
       "==============================================================================\n",
       "Omnibus:                        9.335   Durbin-Watson:                   1.997\n",
       "Prob(Omnibus):                  0.009   Jarque-Bera (JB):               11.716\n",
       "Skew:                           0.099   Prob(JB):                      0.00286\n",
       "Kurtosis:                       3.438   Cond. No.                         10.9\n",
       "==============================================================================\n",
       "\n",
       "Warnings:\n",
       "[1] Standard Errors assume that the covariance matrix of the errors is correctly specified.\n",
       "\"\"\""
      ]
     },
     "execution_count": 20,
     "metadata": {},
     "output_type": "execute_result"
    }
   ],
   "source": [
    "res.summary()"
   ]
  },
  {
   "cell_type": "markdown",
   "metadata": {
    "slideshow": {
     "slide_type": "slide"
    }
   },
   "source": [
    "# Numba & Cython\n",
    "\n",
    "http://pandas.pydata.org/pandas-docs/stable/enhancingperf.html"
   ]
  },
  {
   "cell_type": "code",
   "execution_count": 21,
   "metadata": {
    "collapsed": false,
    "slideshow": {
     "slide_type": "fragment"
    }
   },
   "outputs": [
    {
     "name": "stderr",
     "output_type": "stream",
     "text": [
      "/Users/jreback/miniconda/envs/talk/lib/python3.5/site-packages/ipykernel/__main__.py:7: DeprecationWarning: using a non-integer number instead of an integer will result in an error in the future\n"
     ]
    }
   ],
   "source": [
    "from numba import jit\n",
    "import cython\n",
    "%load_ext cython\n",
    "\n",
    "np.random.seed(1234)\n",
    "pd.set_option('max_row',12)\n",
    "s = Series(np.random.randn(1e5))\n",
    "com = 20.0"
   ]
  },
  {
   "cell_type": "code",
   "execution_count": 22,
   "metadata": {
    "collapsed": true,
    "slideshow": {
     "slide_type": "subslide"
    }
   },
   "outputs": [],
   "source": [
    "def python(s):\n",
    "    output = Series(index=range(len(s)))\n",
    "\n",
    "    alpha = 1. / (1. + com)\n",
    "    old_weight = 1.0\n",
    "    new_weight = 1.0\n",
    "    weighted_avg = s[0]\n",
    "    output[0] = weighted_avg\n",
    "    \n",
    "    for i in range(1,len(s)):\n",
    "        v = s[i]\n",
    "        old_weight *= (1-alpha)\n",
    "        weighted_avg = ((old_weight * weighted_avg) + \n",
    "                        (new_weight * v)) / (old_weight + new_weight)\n",
    "        old_weight += new_weight\n",
    "        output[i] = weighted_avg\n",
    "        \n",
    "    return output"
   ]
  },
  {
   "cell_type": "code",
   "execution_count": 23,
   "metadata": {
    "collapsed": false,
    "slideshow": {
     "slide_type": "subslide"
    }
   },
   "outputs": [],
   "source": [
    "%%cython\n",
    "cimport cython\n",
    "@cython.wraparound(False)\n",
    "@cython.boundscheck(False)\n",
    "def _cython(double[:] arr, double com, double[:] output):\n",
    "    cdef:\n",
    "        double alpha, old_weight, new_weight, weighted_avg, v\n",
    "        int i\n",
    "    \n",
    "    alpha = 1. / (1. + com)\n",
    "    old_weight = 1.0\n",
    "    new_weight = 1.0\n",
    "    weighted_avg = arr[0]\n",
    "    output[0] = weighted_avg\n",
    "    \n",
    "    for i in range(1,arr.shape[0]):\n",
    "        v = arr[i]\n",
    "        old_weight *= (1-alpha)\n",
    "        weighted_avg = ((old_weight * weighted_avg) + \n",
    "                        (new_weight * v)) / (old_weight + new_weight)\n",
    "        old_weight += new_weight\n",
    "        output[i] = weighted_avg\n",
    "        \n",
    "    return output"
   ]
  },
  {
   "cell_type": "code",
   "execution_count": 24,
   "metadata": {
    "collapsed": true,
    "slideshow": {
     "slide_type": "subslide"
    }
   },
   "outputs": [],
   "source": [
    "def cython1(s):\n",
    "    output = np.empty(len(s),dtype='float64')\n",
    "    _cython(s.values, com, output)\n",
    "    return Series(output)"
   ]
  },
  {
   "cell_type": "code",
   "execution_count": 36,
   "metadata": {
    "collapsed": true,
    "slideshow": {
     "slide_type": "subslide"
    }
   },
   "outputs": [],
   "source": [
    "def cython2(s):\n",
    "    return s.ewm(com=com,adjust=True)"
   ]
  },
  {
   "cell_type": "code",
   "execution_count": 37,
   "metadata": {
    "collapsed": true,
    "slideshow": {
     "slide_type": "subslide"
    }
   },
   "outputs": [],
   "source": [
    "@jit\n",
    "def _numba(arr, output):\n",
    "    alpha = 1. / (1. + com)\n",
    "    old_weight = 1.0\n",
    "    new_weight = 1.0\n",
    "    weighted_avg = arr[0]\n",
    "    output[0] = weighted_avg\n",
    "    \n",
    "    for i in range(1,arr.shape[0]):\n",
    "        v = arr[i]\n",
    "        old_weight *= (1-alpha)\n",
    "        weighted_avg = ((old_weight * weighted_avg) + \n",
    "                        (new_weight * v)) / (old_weight + new_weight)\n",
    "        old_weight += new_weight\n",
    "        output[i] = weighted_avg\n",
    "    \n",
    "\n",
    "def numba(s):\n",
    " \n",
    "    output = np.empty(len(s),dtype='float64')\n",
    "    _numba(s.values, output)\n",
    "    return Series(output)"
   ]
  },
  {
   "cell_type": "code",
   "execution_count": 38,
   "metadata": {
    "collapsed": false,
    "slideshow": {
     "slide_type": "subslide"
    }
   },
   "outputs": [
    {
     "data": {
      "text/plain": [
       "False"
      ]
     },
     "execution_count": 38,
     "metadata": {},
     "output_type": "execute_result"
    }
   ],
   "source": [
    "result1 = python(s)\n",
    "result2 = cython1(s)\n",
    "result3 = cython2(s)\n",
    "result4 = numba(s)\n",
    "result1.equals(\n",
    "    result2) and result1.equals(\n",
    "    result3) and result1.equals(\n",
    "    result4)"
   ]
  },
  {
   "cell_type": "code",
   "execution_count": 39,
   "metadata": {
    "collapsed": false,
    "slideshow": {
     "slide_type": "subslide"
    }
   },
   "outputs": [
    {
     "name": "stdout",
     "output_type": "stream",
     "text": [
      "1 loop, best of 3: 1.52 s per loop\n"
     ]
    }
   ],
   "source": [
    "%timeit python(s)"
   ]
  },
  {
   "cell_type": "code",
   "execution_count": 40,
   "metadata": {
    "collapsed": false,
    "slideshow": {
     "slide_type": "fragment"
    }
   },
   "outputs": [
    {
     "name": "stdout",
     "output_type": "stream",
     "text": [
      "1000 loops, best of 3: 942 µs per loop\n"
     ]
    }
   ],
   "source": [
    "%timeit cython1(s)"
   ]
  },
  {
   "cell_type": "code",
   "execution_count": 41,
   "metadata": {
    "collapsed": false,
    "slideshow": {
     "slide_type": "fragment"
    }
   },
   "outputs": [
    {
     "name": "stdout",
     "output_type": "stream",
     "text": [
      "The slowest run took 5.69 times longer than the fastest. This could mean that an intermediate result is being cached.\n",
      "100000 loops, best of 3: 5.88 µs per loop\n"
     ]
    }
   ],
   "source": [
    "%timeit cython2(s)"
   ]
  },
  {
   "cell_type": "code",
   "execution_count": 42,
   "metadata": {
    "collapsed": false,
    "slideshow": {
     "slide_type": "fragment"
    }
   },
   "outputs": [
    {
     "name": "stdout",
     "output_type": "stream",
     "text": [
      "1000 loops, best of 3: 935 µs per loop\n"
     ]
    }
   ],
   "source": [
    "%timeit numba(s)"
   ]
  },
  {
   "cell_type": "markdown",
   "metadata": {
    "slideshow": {
     "slide_type": "slide"
    }
   },
   "source": [
    "# Dask\n",
    "\n",
    "https://dask.readthedocs.org/en/latest/"
   ]
  },
  {
   "cell_type": "code",
   "execution_count": 43,
   "metadata": {
    "collapsed": true
   },
   "outputs": [],
   "source": [
    "import dask.dataframe as dd\n",
    "from dask import threaded, multiprocessing"
   ]
  },
  {
   "cell_type": "code",
   "execution_count": 44,
   "metadata": {
    "collapsed": false,
    "slideshow": {
     "slide_type": "subslide"
    }
   },
   "outputs": [
    {
     "data": {
      "text/plain": [
       "dd.DataFrame<from_pandas-6bba1156f06742bbdaf58b9d400597eb, divisions=(0, 1250000, 2500000, ..., 8750000, 9999999)>"
      ]
     },
     "execution_count": 44,
     "metadata": {},
     "output_type": "execute_result"
    }
   ],
   "source": [
    "np.random.seed(1234)\n",
    "N = int(1e7)\n",
    "df = DataFrame({'key' : np.random.randint(0,1000,size=N), \n",
    "                'value' : np.random.randn(N)})\n",
    "ddf = dd.from_pandas(df, npartitions=8)\n",
    "ddf"
   ]
  },
  {
   "cell_type": "code",
   "execution_count": 45,
   "metadata": {
    "collapsed": false,
    "slideshow": {
     "slide_type": "subslide"
    }
   },
   "outputs": [
    {
     "name": "stdout",
     "output_type": "stream",
     "text": [
      "1 loop, best of 3: 271 ms per loop\n"
     ]
    }
   ],
   "source": [
    "%timeit df.groupby('key').value.sum()"
   ]
  },
  {
   "cell_type": "code",
   "execution_count": 47,
   "metadata": {
    "collapsed": false,
    "slideshow": {
     "slide_type": "fragment"
    }
   },
   "outputs": [
    {
     "name": "stdout",
     "output_type": "stream",
     "text": [
      "1 loop, best of 3: 120 ms per loop\n"
     ]
    }
   ],
   "source": [
    "d = ddf.groupby('key').value.sum()\n",
    "%timeit d.compute(get=threaded.get)"
   ]
  },
  {
   "cell_type": "code",
   "execution_count": 48,
   "metadata": {
    "collapsed": false,
    "slideshow": {
     "slide_type": "subslide"
    }
   },
   "outputs": [
    {
     "name": "stdout",
     "output_type": "stream",
     "text": [
      "[########################################] | 100% Completed |  0.2s\n"
     ]
    }
   ],
   "source": [
    "from dask.diagnostics import ProgressBar\n",
    "with ProgressBar():\n",
    "    d.compute()"
   ]
  },
  {
   "cell_type": "code",
   "execution_count": 54,
   "metadata": {
    "collapsed": false,
    "slideshow": {
     "slide_type": "fragment"
    }
   },
   "outputs": [
    {
     "data": {
      "image/png": "[encoded data removed]",
      "text/plain": [
       "<IPython.core.display.Image object>"
      ]
     },
     "execution_count": 54,
     "metadata": {},
     "output_type": "execute_result"
    }
   ],
   "source": [
    "d.visualize()"
   ]
  },
  {
   "cell_type": "code",
   "execution_count": 51,
   "metadata": {
    "collapsed": false,
    "slideshow": {
     "slide_type": "subslide"
    }
   },
   "outputs": [],
   "source": [
    "from dask.diagnostics import Profiler, ResourceProfiler\n",
    "with Profiler() as prof, ResourceProfiler(dt=0.05) as rprof:\n",
    "     out = d.compute()"
   ]
  },
  {
   "cell_type": "code",
   "execution_count": 53,
   "metadata": {
    "collapsed": false,
    "slideshow": {
     "slide_type": "fragment"
    }
   },
   "outputs": [
    {
     "data": {
      "text/html": []
     },
     "metadata": {},
     "output_type": "display_data"
    },
    {
     "data": {
      "application/javascript": [
       "\n",
       "(function(global) {\n",
       "  function now() {\n",
       "    return new Date();\n",
       "  }\n",
       "\n",
       "  if (typeof (window._bokeh_onload_callbacks) === \"undefined\") {\n",
       "    window._bokeh_onload_callbacks = [];\n",
       "  }\n",
       "\n",
       "  function run_callbacks() {\n",
       "    window._bokeh_onload_callbacks.forEach(function(callback) { callback() });\n",
       "    delete window._bokeh_onload_callbacks\n",
       "    console.info(\"Bokeh: all callbacks have finished\");\n",
       "  }\n",
       "\n",
       "  function load_libs(js_urls, callback) {\n",
       "    window._bokeh_onload_callbacks.push(callback);\n",
       "    if (window._bokeh_is_loading > 0) {\n",
       "      console.log(\"Bokeh: BokehJS is being loaded, scheduling callback at\", now());\n",
       "      return null;\n",
       "    }\n",
       "    if (js_urls == null || js_urls.length === 0) {\n",
       "      run_callbacks();\n",
       "      return null;\n",
       "    }\n",
       "    console.log(\"Bokeh: BokehJS not loaded, scheduling load and callback at\", now());\n",
       "    window._bokeh_is_loading = js_urls.length;\n",
       "    for (var i = 0; i < js_urls.length; i++) {\n",
       "      var url = js_urls[i];\n",
       "      var s = document.createElement('script');\n",
       "      s.src = url;\n",
       "      s.async = false;\n",
       "      s.onreadystatechange = s.onload = function() {\n",
       "        window._bokeh_is_loading--;\n",
       "        if (window._bokeh_is_loading === 0) {\n",
       "          console.log(\"Bokeh: all BokehJS libraries loaded\");\n",
       "          run_callbacks()\n",
       "        }\n",
       "      };\n",
       "      s.onerror = function() {\n",
       "        console.warn(\"failed to load library \" + url);\n",
       "      };\n",
       "      console.log(\"Bokeh: injecting script tag for BokehJS library: \", url);\n",
       "      document.getElementsByTagName(\"head\")[0].appendChild(s);\n",
       "    }\n",
       "  };\n",
       "\n",
       "  var js_urls = ['https://cdn.pydata.org/bokeh/release/bokeh-0.11.1.min.js', 'https://cdn.pydata.org/bokeh/release/bokeh-widgets-0.11.1.min.js', 'https://cdn.pydata.org/bokeh/release/bokeh-compiler-0.11.1.min.js'];\n",
       "\n",
       "  var inline_js = [\n",
       "    function(Bokeh) {\n",
       "      Bokeh.set_log_level(\"info\");\n",
       "    },\n",
       "    \n",
       "    function(Bokeh) {\n",
       "      Bokeh.$(\"#389d4169-8973-453a-ac28-5cb055297ab9\").text(\"BokehJS successfully loaded\");\n",
       "    },\n",
       "    function(Bokeh) {\n",
       "      console.log(\"Bokeh: injecting CSS: https://cdn.pydata.org/bokeh/release/bokeh-0.11.1.min.css\");\n",
       "      Bokeh.embed.inject_css(\"https://cdn.pydata.org/bokeh/release/bokeh-0.11.1.min.css\");\n",
       "      console.log(\"Bokeh: injecting CSS: https://cdn.pydata.org/bokeh/release/bokeh-widgets-0.11.1.min.css\");\n",
       "      Bokeh.embed.inject_css(\"https://cdn.pydata.org/bokeh/release/bokeh-widgets-0.11.1.min.css\");\n",
       "    }\n",
       "  ];\n",
       "\n",
       "  function run_inline_js() {\n",
       "    for (var i = 0; i < inline_js.length; i++) {\n",
       "      inline_js[i](window.Bokeh);\n",
       "    }\n",
       "  }\n",
       "\n",
       "  if (window._bokeh_is_loading === 0) {\n",
       "    console.log(\"Bokeh: BokehJS loaded, going straight to plotting\");\n",
       "    run_inline_js();\n",
       "  } else {\n",
       "    load_libs(js_urls, function() {\n",
       "      console.log(\"Bokeh: BokehJS plotting callback run at\", now());\n",
       "      run_inline_js();\n",
       "    });\n",
       "  }\n",
       "}(this));"
      ]
     },
     "metadata": {},
     "output_type": "display_data"
    },
    {
     "data": {
      "text/html": [
       "\n",
       "\n",
       "    <div class=\"plotdiv\" id=\"d7d5cc0e-3e1f-4aec-8820-25e295765b8b\"></div>\n",
       "<script type=\"text/javascript\">\n",
       "  \n",
       "  (function(global) {\n",
       "    function now() {\n",
       "      return new Date();\n",
       "    }\n",
       "  \n",
       "    if (typeof (window._bokeh_onload_callbacks) === \"undefined\") {\n",
       "      window._bokeh_onload_callbacks = [];\n",
       "    }\n",
       "  \n",
       "    function run_callbacks() {\n",
       "      window._bokeh_onload_callbacks.forEach(function(callback) { callback() });\n",
       "      delete window._bokeh_onload_callbacks\n",
       "      console.info(\"Bokeh: all callbacks have finished\");\n",
       "    }\n",
       "  \n",
       "    function load_libs(js_urls, callback) {\n",
       "      window._bokeh_onload_callbacks.push(callback);\n",
       "      if (window._bokeh_is_loading > 0) {\n",
       "        console.log(\"Bokeh: BokehJS is being loaded, scheduling callback at\", now());\n",
       "        return null;\n",
       "      }\n",
       "      if (js_urls == null || js_urls.length === 0) {\n",
       "        run_callbacks();\n",
       "        return null;\n",
       "      }\n",
       "      console.log(\"Bokeh: BokehJS not loaded, scheduling load and callback at\", now());\n",
       "      window._bokeh_is_loading = js_urls.length;\n",
       "      for (var i = 0; i < js_urls.length; i++) {\n",
       "        var url = js_urls[i];\n",
       "        var s = document.createElement('script');\n",
       "        s.src = url;\n",
       "        s.async = false;\n",
       "        s.onreadystatechange = s.onload = function() {\n",
       "          window._bokeh_is_loading--;\n",
       "          if (window._bokeh_is_loading === 0) {\n",
       "            console.log(\"Bokeh: all BokehJS libraries loaded\");\n",
       "            run_callbacks()\n",
       "          }\n",
       "        };\n",
       "        s.onerror = function() {\n",
       "          console.warn(\"failed to load library \" + url);\n",
       "        };\n",
       "        console.log(\"Bokeh: injecting script tag for BokehJS library: \", url);\n",
       "        document.getElementsByTagName(\"head\")[0].appendChild(s);\n",
       "      }\n",
       "    };var element = document.getElementById(\"d7d5cc0e-3e1f-4aec-8820-25e295765b8b\");\n",
       "    if (element == null) {\n",
       "      console.log(\"Bokeh: ERROR: autoload.js configured with elementid 'd7d5cc0e-3e1f-4aec-8820-25e295765b8b' but no matching script tag was found. \")\n",
       "      return false;\n",
       "    }\n",
       "  \n",
       "    var js_urls = [];\n",
       "  \n",
       "    var inline_js = [\n",
       "      function(Bokeh) {\n",
       "        Bokeh.$(function() {\n",
       "            var docs_json = {\"53b192b2-d366-43ea-9a08-3e7e4f222377\":{\"roots\":{\"references\":[{\"attributes\":{\"below\":[{\"id\":\"46f97c2e-a267-4420-b98b-c3aba45beb6b\",\"type\":\"LinearAxis\"}],\"extra_y_ranges\":{\"memory\":{\"id\":\"558dd18d-9767-4df9-998e-abb8922f4121\",\"type\":\"Range1d\"}},\"left\":[{\"id\":\"bec7ee73-0eeb-40b9-9474-44227133a8fe\",\"type\":\"LinearAxis\"}],\"min_border_left\":75,\"min_border_right\":75,\"min_border_top\":20,\"plot_height\":300,\"plot_width\":800,\"renderers\":[{\"id\":\"46f97c2e-a267-4420-b98b-c3aba45beb6b\",\"type\":\"LinearAxis\"},{\"id\":\"c80745f1-fcc1-489b-a434-e1048e78e234\",\"type\":\"Grid\"},{\"id\":\"bec7ee73-0eeb-40b9-9474-44227133a8fe\",\"type\":\"LinearAxis\"},{\"id\":\"ae8e13a7-d77d-43db-b65d-412d94fe3843\",\"type\":\"Grid\"},{\"id\":\"019d31c1-dffd-4401-910b-5bfe4ec21bff\",\"type\":\"Legend\"},{\"id\":\"bc321b15-41b5-40dd-a1ca-1745f7aa77bc\",\"type\":\"GlyphRenderer\"},{\"id\":\"cb26e4f6-9f79-4429-b89a-fc8447d4db71\",\"type\":\"GlyphRenderer\"},{\"id\":\"52a42c4c-6578-4092-91b6-38bd4517d577\",\"type\":\"LinearAxis\"}],\"right\":[{\"id\":\"52a42c4c-6578-4092-91b6-38bd4517d577\",\"type\":\"LinearAxis\"}],\"title\":null,\"tool_events\":{\"id\":\"7d9431f8-d0ba-45e9-84bc-f052e98fd2c4\",\"type\":\"ToolEvents\"},\"tools\":[{\"id\":\"2d836fcc-d4ac-4de9-91d1-332a8417d89d\",\"type\":\"PreviewSaveTool\"},{\"id\":\"f36f6110-b0f1-4779-a55a-2e163971f7d0\",\"type\":\"ResetTool\"},{\"id\":\"6bde9052-7548-4bb2-a206-d906e1b39a66\",\"type\":\"ResizeTool\"},{\"id\":\"c8dd289b-0f8a-41d0-902e-37fd467c3e30\",\"type\":\"WheelZoomTool\"},{\"id\":\"7d926beb-9b38-41af-b59d-50281f5ef8ce\",\"type\":\"PanTool\"}],\"x_range\":{\"id\":\"9114f0d4-bb7e-4651-b09f-9ff0e5a92ed1\",\"type\":\"Range1d\"},\"y_range\":{\"id\":\"5f5504fd-2775-47fc-851b-fcae08689a39\",\"type\":\"Range1d\"}},\"id\":\"804915c2-14b0-48ab-9b2e-6af2de413984\",\"subtype\":\"Figure\",\"type\":\"Plot\"},{\"attributes\":{\"axis_label\":\"% CPU\",\"formatter\":{\"id\":\"c72f4027-436b-4faa-833e-7100a4fbb611\",\"type\":\"BasicTickFormatter\"},\"plot\":{\"id\":\"31f6fe22-5e07-4e3b-8e6d-995b970c229e\",\"subtype\":\"Figure\",\"type\":\"Plot\"},\"ticker\":{\"id\":\"6bb1101b-d4fa-4f0a-8c9e-6634643a922b\",\"type\":\"BasicTicker\"}},\"id\":\"97b92084-0d70-46e8-a74c-444549beb471\",\"type\":\"LinearAxis\"},{\"attributes\":{\"dimension\":1,\"grid_line_color\":{\"value\":null},\"plot\":{\"id\":\"b1106032-834a-44ea-a02f-0a37dda97358\",\"subtype\":\"Figure\",\"type\":\"Plot\"},\"ticker\":{\"id\":\"1254426d-996d-4983-8786-c42368980ccd\",\"type\":\"CategoricalTicker\"}},\"id\":\"b5dba964-2218-4a65-8c79-b95ae97b74a7\",\"type\":\"Grid\"},{\"attributes\":{\"plot\":{\"id\":\"6d2bfab8-128d-4eb0-aab3-58a8e4e7a9f3\",\"subtype\":\"Figure\",\"type\":\"Plot\"}},\"id\":\"978aee79-a585-4fda-9d58-0068abde02f7\",\"type\":\"ResizeTool\"},{\"attributes\":{},\"id\":\"1bcfbb54-79af-4c6c-8089-116df758e99a\",\"type\":\"BasicTickFormatter\"},{\"attributes\":{\"axis_label\":\"Memory (MB)\",\"formatter\":{\"id\":\"e9ed6706-d2c9-4e0d-81e8-40f080ba722e\",\"type\":\"BasicTickFormatter\"},\"plot\":{\"id\":\"804915c2-14b0-48ab-9b2e-6af2de413984\",\"subtype\":\"Figure\",\"type\":\"Plot\"},\"ticker\":{\"id\":\"bd2315cf-f0f6-4c56-b47d-6766c40e2eea\",\"type\":\"BasicTicker\"},\"y_range_name\":\"memory\"},\"id\":\"52a42c4c-6578-4092-91b6-38bd4517d577\",\"type\":\"LinearAxis\"},{\"attributes\":{\"line_color\":{\"value\":\"#0868ac\"},\"line_width\":{\"value\":4},\"x\":{\"field\":\"x\"},\"y\":{\"field\":\"y\"}},\"id\":\"64e06fe7-190d-4a35-84bf-fc36f2150889\",\"type\":\"Line\"},{\"attributes\":{\"dimensions\":[\"width\"],\"plot\":{\"id\":\"b1106032-834a-44ea-a02f-0a37dda97358\",\"subtype\":\"Figure\",\"type\":\"Plot\"}},\"id\":\"879add4a-db8d-434d-801c-cc15d9812897\",\"type\":\"PanTool\"},{\"attributes\":{\"dimensions\":[\"width\"],\"plot\":{\"id\":\"b1106032-834a-44ea-a02f-0a37dda97358\",\"subtype\":\"Figure\",\"type\":\"Plot\"}},\"id\":\"038495e6-05f9-4a22-b484-c666dccb8e62\",\"type\":\"WheelZoomTool\"},{\"attributes\":{\"callback\":null,\"end\":316.2},\"id\":\"5f5504fd-2775-47fc-851b-fcae08689a39\",\"type\":\"Range1d\"},{\"attributes\":{\"callback\":null,\"end\":0.35254074400290847},\"id\":\"6e088849-bc20-49a5-89f3-43c352d033d4\",\"type\":\"Range1d\"},{\"attributes\":{},\"id\":\"5dcdc259-7e77-402c-b8f3-8cb12379464e\",\"type\":\"BasicTicker\"},{\"attributes\":{\"data_source\":{\"id\":\"69cd6791-7983-4d36-91a2-f7d3f5422df1\",\"type\":\"ColumnDataSource\"},\"glyph\":{\"id\":\"64e06fe7-190d-4a35-84bf-fc36f2150889\",\"type\":\"Line\"},\"hover_glyph\":null,\"nonselection_glyph\":{\"id\":\"a226135b-6d7e-4a69-95ea-eda3e47871ea\",\"type\":\"Line\"},\"selection_glyph\":null},\"id\":\"bc321b15-41b5-40dd-a1ca-1745f7aa77bc\",\"type\":\"GlyphRenderer\"},{\"attributes\":{\"plot\":{\"id\":\"31f6fe22-5e07-4e3b-8e6d-995b970c229e\",\"subtype\":\"Figure\",\"type\":\"Plot\"},\"ticker\":{\"id\":\"e549f4cd-7985-422a-a28f-2fc8f350b987\",\"type\":\"BasicTicker\"}},\"id\":\"f91109b0-1aef-4c69-a64a-f946aaeef8c5\",\"type\":\"Grid\"},{\"attributes\":{},\"id\":\"c552f3b0-2b12-456c-9c2e-fe1f22816549\",\"type\":\"BasicTickFormatter\"},{\"attributes\":{\"line_color\":{\"value\":\"#7bccc4\"},\"line_width\":{\"value\":4},\"x\":{\"field\":\"x\"},\"y\":{\"field\":\"y\"}},\"id\":\"ca221631-e03d-420a-9983-ebcd82776321\",\"type\":\"Line\"},{\"attributes\":{},\"id\":\"8287011e-0607-4b1b-ba20-1f9176593ba8\",\"type\":\"BasicTickFormatter\"},{\"attributes\":{\"callback\":null,\"plot\":{\"id\":\"6d2bfab8-128d-4eb0-aab3-58a8e4e7a9f3\",\"subtype\":\"Figure\",\"type\":\"Plot\"},\"point_policy\":\"follow_mouse\",\"tooltips\":\"\\n    <div>\\n        <span style=\\\"font-size: 14px; font-weight: bold;\\\">Key:</span>&nbsp;\\n        <span style=\\\"font-size: 10px; font-family: Monaco, monospace;\\\">@key</span>\\n    </div>\\n    <div>\\n        <span style=\\\"font-size: 14px; font-weight: bold;\\\">Task:</span>&nbsp;\\n        <span style=\\\"font-size: 10px; font-family: Monaco, monospace;\\\">@function</span>\\n    </div>\\n    \"},\"id\":\"f25128c0-a2f2-44cc-9111-898d18c5df1f\",\"type\":\"HoverTool\"},{\"attributes\":{\"dimensions\":[\"width\"],\"plot\":{\"id\":\"6d2bfab8-128d-4eb0-aab3-58a8e4e7a9f3\",\"subtype\":\"Figure\",\"type\":\"Plot\"}},\"id\":\"cdcbaaab-c60d-4f74-99f2-b80917f4fd52\",\"type\":\"PanTool\"},{\"attributes\":{},\"id\":\"a0355847-dc5c-4e56-a457-cb13c4706a53\",\"type\":\"ToolEvents\"},{\"attributes\":{\"axis_label\":null,\"axis_line_color\":{\"value\":null},\"formatter\":{\"id\":\"8287011e-0607-4b1b-ba20-1f9176593ba8\",\"type\":\"BasicTickFormatter\"},\"major_tick_line_color\":{\"value\":null},\"plot\":{\"id\":\"b1106032-834a-44ea-a02f-0a37dda97358\",\"subtype\":\"Figure\",\"type\":\"Plot\"},\"ticker\":{\"id\":\"548fe03b-9376-4d6c-8150-487b4d4f523f\",\"type\":\"BasicTicker\"}},\"id\":\"879989db-67cc-4147-901e-7ca686bfe533\",\"type\":\"LinearAxis\"},{\"attributes\":{\"data_source\":{\"id\":\"0b7d7ab4-ed78-4540-a7e8-e80d18fcfb2d\",\"type\":\"ColumnDataSource\"},\"glyph\":{\"id\":\"7b03877c-1c4d-49f4-a3a1-4821c797e860\",\"type\":\"Line\"},\"hover_glyph\":null,\"nonselection_glyph\":{\"id\":\"e460c28f-be0e-4155-9f6a-4d9a73fbc306\",\"type\":\"Line\"},\"selection_glyph\":null},\"id\":\"75fc3874-e19a-4c13-82b4-c1a1551c554d\",\"type\":\"GlyphRenderer\"},{\"attributes\":{\"plot\":{\"id\":\"b1106032-834a-44ea-a02f-0a37dda97358\",\"subtype\":\"Figure\",\"type\":\"Plot\"}},\"id\":\"5c759655-f5ce-454a-9e26-d10ac98835f1\",\"type\":\"ResetTool\"},{\"attributes\":{\"fill_alpha\":{\"value\":0.1},\"fill_color\":{\"value\":\"#1f77b4\"},\"height\":{\"units\":\"data\",\"value\":1},\"line_alpha\":{\"value\":0.1},\"line_color\":{\"value\":\"#1f77b4\"},\"width\":{\"field\":\"width\",\"units\":\"data\"},\"x\":{\"field\":\"x\"},\"y\":{\"field\":\"y\"}},\"id\":\"43251ad1-0b42-40a0-b0a8-486d5d47c44f\",\"type\":\"Rect\"},{\"attributes\":{\"callback\":null,\"end\":803.094528,\"start\":707.42016},\"id\":\"c7214da1-99ff-4cab-ad87-bee45f0ff573\",\"type\":\"Range1d\"},{\"attributes\":{\"dimensions\":[\"width\"],\"plot\":{\"id\":\"804915c2-14b0-48ab-9b2e-6af2de413984\",\"subtype\":\"Figure\",\"type\":\"Plot\"}},\"id\":\"c8dd289b-0f8a-41d0-902e-37fd467c3e30\",\"type\":\"WheelZoomTool\"},{\"attributes\":{\"plot\":{\"id\":\"31f6fe22-5e07-4e3b-8e6d-995b970c229e\",\"subtype\":\"Figure\",\"type\":\"Plot\"}},\"id\":\"c864d4a3-2590-4754-94a4-4eba3ae9fd66\",\"type\":\"PreviewSaveTool\"},{\"attributes\":{\"callback\":null,\"plot\":{\"id\":\"b1106032-834a-44ea-a02f-0a37dda97358\",\"subtype\":\"Figure\",\"type\":\"Plot\"},\"point_policy\":\"follow_mouse\",\"tooltips\":\"\\n    <div>\\n        <span style=\\\"font-size: 14px; font-weight: bold;\\\">Key:</span>&nbsp;\\n        <span style=\\\"font-size: 10px; font-family: Monaco, monospace;\\\">@key</span>\\n    </div>\\n    <div>\\n        <span style=\\\"font-size: 14px; font-weight: bold;\\\">Task:</span>&nbsp;\\n        <span style=\\\"font-size: 10px; font-family: Monaco, monospace;\\\">@function</span>\\n    </div>\\n    \"},\"id\":\"b0da908e-5c6b-4fdc-bd2b-76768bbba17d\",\"type\":\"HoverTool\"},{\"attributes\":{},\"id\":\"deb7d8e0-571e-4410-a3c0-577184ada9c3\",\"type\":\"CategoricalTicker\"},{\"attributes\":{\"axis_label\":\"% CPU\",\"formatter\":{\"id\":\"2beb61ee-1578-443f-9b45-5482f5fab0f2\",\"type\":\"BasicTickFormatter\"},\"plot\":{\"id\":\"804915c2-14b0-48ab-9b2e-6af2de413984\",\"subtype\":\"Figure\",\"type\":\"Plot\"},\"ticker\":{\"id\":\"1793a721-90aa-49bb-a659-7dd05732ed42\",\"type\":\"BasicTicker\"}},\"id\":\"bec7ee73-0eeb-40b9-9474-44227133a8fe\",\"type\":\"LinearAxis\"},{\"attributes\":{\"children\":[[{\"id\":\"6d2bfab8-128d-4eb0-aab3-58a8e4e7a9f3\",\"subtype\":\"Figure\",\"type\":\"Plot\"}],[{\"id\":\"31f6fe22-5e07-4e3b-8e6d-995b970c229e\",\"subtype\":\"Figure\",\"type\":\"Plot\"}]]},\"id\":\"ea466429-e039-4e6e-88f7-85e378c9a30a\",\"type\":\"GridPlot\"},{\"attributes\":{\"plot\":{\"id\":\"804915c2-14b0-48ab-9b2e-6af2de413984\",\"subtype\":\"Figure\",\"type\":\"Plot\"}},\"id\":\"f36f6110-b0f1-4779-a55a-2e163971f7d0\",\"type\":\"ResetTool\"},{\"attributes\":{\"axis_label\":\"Time (s)\",\"formatter\":{\"id\":\"1a63ad5e-9003-4bca-a59b-f13f5d1a9c74\",\"type\":\"BasicTickFormatter\"},\"plot\":{\"id\":\"804915c2-14b0-48ab-9b2e-6af2de413984\",\"subtype\":\"Figure\",\"type\":\"Plot\"},\"ticker\":{\"id\":\"1a1c2aca-47fc-45ac-a045-81447a8dbf3c\",\"type\":\"BasicTicker\"}},\"id\":\"46f97c2e-a267-4420-b98b-c3aba45beb6b\",\"type\":\"LinearAxis\"},{\"attributes\":{\"callback\":null,\"column_names\":[\"y\",\"width\",\"color\",\"key\",\"x\",\"function\"],\"data\":{\"color\":[\"#a8ddb5\",\"#a8ddb5\",\"#a8ddb5\",\"#a8ddb5\",\"#a8ddb5\",\"#a8ddb5\",\"#43a2ca\",\"#a8ddb5\",\"#a8ddb5\"],\"function\":[\"chunk(_)\",\"chunk(_)\",\"chunk(_)\",\"chunk(_)\",\"chunk(_)\",\"chunk(_)\",\"<lambda>(_concat(list([_, _, _, ...])))\",\"chunk(_)\",\"chunk(_)\"],\"key\":[\"('series-groupby-sum--first-eb32de3f04c56b836aa4293eb83e1868', 5)\",\"('series-groupby-sum--first-eb32de3f04c56b836aa4293eb83e1868', 2)\",\"('series-groupby-sum--first-eb32de3f04c56b836aa4293eb83e1868', 4)\",\"('series-groupby-sum--first-eb32de3f04c56b836aa4293eb83e1868', 1)\",\"('series-groupby-sum--first-eb32de3f04c56b836aa4293eb83e1868', 0)\",\"('series-groupby-sum--first-eb32de3f04c56b836aa4293eb83e1868', 7)\",\"('series-groupby-sum--second-eb32de3f04c56b836aa4293eb83e1868', 0)\",\"('series-groupby-sum--first-eb32de3f04c56b836aa4293eb83e1868', 6)\",\"('series-groupby-sum--first-eb32de3f04c56b836aa4293eb83e1868', 3)\"],\"width\":[0.3388408520258963,0.29315405897796154,0.3389306543394923,0.34774573892354965,0.3448554268106818,0.3383429101668298,0.003941284026950598,0.3107905746437609,0.3391319131478667],\"x\":[0.1696985987946391,0.147448705509305,0.1696769641712308,0.17471391381695867,0.17321600764989853,0.169918199069798,0.3505701022222638,0.15571029391139746,0.16956595657393336],\"y\":[5,8,4,1,2,6,8,7,3]}},\"id\":\"473509f8-31e6-4b35-bddd-843608cbeede\",\"type\":\"ColumnDataSource\"},{\"attributes\":{\"data_source\":{\"id\":\"473509f8-31e6-4b35-bddd-843608cbeede\",\"type\":\"ColumnDataSource\"},\"glyph\":{\"id\":\"9bb5c956-acc8-44ba-ba92-450eda563156\",\"type\":\"Rect\"},\"hover_glyph\":null,\"nonselection_glyph\":{\"id\":\"acd888cf-d723-4c22-962d-660788f435ea\",\"type\":\"Rect\"},\"selection_glyph\":null},\"id\":\"311b702b-d114-46b1-8285-86c747491423\",\"type\":\"GlyphRenderer\"},{\"attributes\":{},\"id\":\"1a63ad5e-9003-4bca-a59b-f13f5d1a9c74\",\"type\":\"BasicTickFormatter\"},{\"attributes\":{\"dimension\":1,\"grid_line_color\":{\"value\":null},\"plot\":{\"id\":\"6d2bfab8-128d-4eb0-aab3-58a8e4e7a9f3\",\"subtype\":\"Figure\",\"type\":\"Plot\"},\"ticker\":{\"id\":\"deb7d8e0-571e-4410-a3c0-577184ada9c3\",\"type\":\"CategoricalTicker\"}},\"id\":\"1ba47680-58ed-4911-a0b0-c4f58e161735\",\"type\":\"Grid\"},{\"attributes\":{\"legends\":[[\"% CPU\",[{\"id\":\"75fc3874-e19a-4c13-82b4-c1a1551c554d\",\"type\":\"GlyphRenderer\"}]],[\"Memory\",[{\"id\":\"f0bcae14-acb3-4a2c-a87c-48879c970de3\",\"type\":\"GlyphRenderer\"}]]],\"plot\":{\"id\":\"31f6fe22-5e07-4e3b-8e6d-995b970c229e\",\"subtype\":\"Figure\",\"type\":\"Plot\"}},\"id\":\"46ae6382-9388-47c1-a762-84bdb21c173d\",\"type\":\"Legend\"},{\"attributes\":{},\"id\":\"2beb61ee-1578-443f-9b45-5482f5fab0f2\",\"type\":\"BasicTickFormatter\"},{\"attributes\":{},\"id\":\"69f22090-68ee-4833-9274-078ac5129a7f\",\"type\":\"ToolEvents\"},{\"attributes\":{},\"id\":\"6bb1101b-d4fa-4f0a-8c9e-6634643a922b\",\"type\":\"BasicTicker\"},{\"attributes\":{\"plot\":{\"id\":\"31f6fe22-5e07-4e3b-8e6d-995b970c229e\",\"subtype\":\"Figure\",\"type\":\"Plot\"}},\"id\":\"04d75ea9-77e5-4111-9bd6-30ad479a3196\",\"type\":\"ResizeTool\"},{\"attributes\":{},\"id\":\"1a1c2aca-47fc-45ac-a045-81447a8dbf3c\",\"type\":\"BasicTicker\"},{\"attributes\":{\"callback\":null,\"factors\":[\"0\",\"1\",\"2\",\"3\",\"4\",\"5\",\"6\",\"7\"]},\"id\":\"00e18673-5779-4fcd-a87b-254ece6333e9\",\"type\":\"FactorRange\"},{\"attributes\":{\"callback\":null,\"column_names\":[\"x\",\"y\"],\"data\":{\"x\":[0.0,0.050578284077346325,0.10176358884200454,0.15219696890562773,0.20246144710108638,0.2542114690877497,0.30485498486086726],\"y\":[0.0,182.20000000000002,202.79999999999998,249.4,233.0,310.8,316.2]}},\"id\":\"69cd6791-7983-4d36-91a2-f7d3f5422df1\",\"type\":\"ColumnDataSource\"},{\"attributes\":{\"plot\":{\"id\":\"804915c2-14b0-48ab-9b2e-6af2de413984\",\"subtype\":\"Figure\",\"type\":\"Plot\"}},\"id\":\"6bde9052-7548-4bb2-a206-d906e1b39a66\",\"type\":\"ResizeTool\"},{\"attributes\":{\"plot\":{\"id\":\"b1106032-834a-44ea-a02f-0a37dda97358\",\"subtype\":\"Figure\",\"type\":\"Plot\"}},\"id\":\"27358b91-378b-4f42-ba81-5f62c2acd1f0\",\"type\":\"ResizeTool\"},{\"attributes\":{\"plot\":{\"id\":\"b1106032-834a-44ea-a02f-0a37dda97358\",\"subtype\":\"Figure\",\"type\":\"Plot\"}},\"id\":\"2887a36c-f1b9-4889-a3dd-fceaa09b709f\",\"type\":\"PreviewSaveTool\"},{\"attributes\":{\"callback\":null,\"column_names\":[\"x\",\"y\"],\"data\":{\"x\":[0.0,0.050578284077346325,0.10176358884200454,0.15219696890562773,0.20246144710108638,0.2542114690877497,0.30485498486086726],\"y\":[0.0,182.20000000000002,202.79999999999998,249.4,233.0,310.8,316.2]}},\"id\":\"0b7d7ab4-ed78-4540-a7e8-e80d18fcfb2d\",\"type\":\"ColumnDataSource\"},{\"attributes\":{\"data_source\":{\"id\":\"350a1848-76cf-455f-a954-69701db7a148\",\"type\":\"ColumnDataSource\"},\"glyph\":{\"id\":\"9bbb6b9c-b27d-4c6d-bdc1-335f51cfb884\",\"type\":\"Line\"},\"hover_glyph\":null,\"nonselection_glyph\":{\"id\":\"d458eeff-22e1-452e-917f-c9fea492ce9f\",\"type\":\"Line\"},\"selection_glyph\":null,\"y_range_name\":\"memory\"},\"id\":\"cb26e4f6-9f79-4429-b89a-fc8447d4db71\",\"type\":\"GlyphRenderer\"},{\"attributes\":{\"line_alpha\":{\"value\":0.1},\"line_color\":{\"value\":\"#1f77b4\"},\"line_width\":{\"value\":4},\"x\":{\"field\":\"x\"},\"y\":{\"field\":\"y\"}},\"id\":\"d458eeff-22e1-452e-917f-c9fea492ce9f\",\"type\":\"Line\"},{\"attributes\":{\"callback\":null,\"end\":0.35254074400290847},\"id\":\"9114f0d4-bb7e-4651-b09f-9ff0e5a92ed1\",\"type\":\"Range1d\"},{\"attributes\":{\"fill_color\":{\"field\":\"color\"},\"height\":{\"units\":\"data\",\"value\":1},\"line_color\":{\"value\":\"gray\"},\"width\":{\"field\":\"width\",\"units\":\"data\"},\"x\":{\"field\":\"x\"},\"y\":{\"field\":\"y\"}},\"id\":\"6e6320e4-0b87-4a64-981e-ce2043b98b91\",\"type\":\"Rect\"},{\"attributes\":{\"plot\":{\"id\":\"6d2bfab8-128d-4eb0-aab3-58a8e4e7a9f3\",\"subtype\":\"Figure\",\"type\":\"Plot\"}},\"id\":\"735e17e9-9fc2-41fc-9f7b-f7c539a19ec5\",\"type\":\"PreviewSaveTool\"},{\"attributes\":{\"line_alpha\":{\"value\":0.1},\"line_color\":{\"value\":\"#1f77b4\"},\"line_width\":{\"value\":4},\"x\":{\"field\":\"x\"},\"y\":{\"field\":\"y\"}},\"id\":\"a226135b-6d7e-4a69-95ea-eda3e47871ea\",\"type\":\"Line\"},{\"attributes\":{\"fill_alpha\":{\"value\":0.1},\"fill_color\":{\"value\":\"#1f77b4\"},\"height\":{\"units\":\"data\",\"value\":1},\"line_alpha\":{\"value\":0.1},\"line_color\":{\"value\":\"#1f77b4\"},\"width\":{\"field\":\"width\",\"units\":\"data\"},\"x\":{\"field\":\"x\"},\"y\":{\"field\":\"y\"}},\"id\":\"acd888cf-d723-4c22-962d-660788f435ea\",\"type\":\"Rect\"},{\"attributes\":{\"axis_label\":null,\"axis_line_color\":{\"value\":null},\"formatter\":{\"id\":\"f7a2a40f-6b14-40b2-b3bd-3c208b944850\",\"type\":\"BasicTickFormatter\"},\"major_tick_line_color\":{\"value\":null},\"plot\":{\"id\":\"6d2bfab8-128d-4eb0-aab3-58a8e4e7a9f3\",\"subtype\":\"Figure\",\"type\":\"Plot\"},\"ticker\":{\"id\":\"5dcdc259-7e77-402c-b8f3-8cb12379464e\",\"type\":\"BasicTicker\"}},\"id\":\"cbcd8e64-4f7a-4530-a213-6006154a8695\",\"type\":\"LinearAxis\"},{\"attributes\":{\"axis_label\":\"Time (s)\",\"formatter\":{\"id\":\"1bcfbb54-79af-4c6c-8089-116df758e99a\",\"type\":\"BasicTickFormatter\"},\"plot\":{\"id\":\"31f6fe22-5e07-4e3b-8e6d-995b970c229e\",\"subtype\":\"Figure\",\"type\":\"Plot\"},\"ticker\":{\"id\":\"e549f4cd-7985-422a-a28f-2fc8f350b987\",\"type\":\"BasicTicker\"}},\"id\":\"0bd3eab5-bd9d-427b-8dd7-f11328d3c21e\",\"type\":\"LinearAxis\"},{\"attributes\":{\"dimensions\":[\"width\"],\"plot\":{\"id\":\"804915c2-14b0-48ab-9b2e-6af2de413984\",\"subtype\":\"Figure\",\"type\":\"Plot\"}},\"id\":\"7d926beb-9b38-41af-b59d-50281f5ef8ce\",\"type\":\"PanTool\"},{\"attributes\":{\"plot\":{\"id\":\"804915c2-14b0-48ab-9b2e-6af2de413984\",\"subtype\":\"Figure\",\"type\":\"Plot\"}},\"id\":\"2d836fcc-d4ac-4de9-91d1-332a8417d89d\",\"type\":\"PreviewSaveTool\"},{\"attributes\":{\"fill_color\":{\"field\":\"color\"},\"height\":{\"units\":\"data\",\"value\":1},\"line_color\":{\"value\":\"gray\"},\"width\":{\"field\":\"width\",\"units\":\"data\"},\"x\":{\"field\":\"x\"},\"y\":{\"field\":\"y\"}},\"id\":\"9bb5c956-acc8-44ba-ba92-450eda563156\",\"type\":\"Rect\"},{\"attributes\":{\"callback\":null,\"column_names\":[\"y\",\"width\",\"color\",\"key\",\"x\",\"function\"],\"data\":{\"color\":[\"#a8ddb5\",\"#a8ddb5\",\"#a8ddb5\",\"#a8ddb5\",\"#a8ddb5\",\"#a8ddb5\",\"#43a2ca\",\"#a8ddb5\",\"#a8ddb5\"],\"function\":[\"chunk(_)\",\"chunk(_)\",\"chunk(_)\",\"chunk(_)\",\"chunk(_)\",\"chunk(_)\",\"<lambda>(_concat(list([_, _, _, ...])))\",\"chunk(_)\",\"chunk(_)\"],\"key\":[\"('series-groupby-sum--first-eb32de3f04c56b836aa4293eb83e1868', 5)\",\"('series-groupby-sum--first-eb32de3f04c56b836aa4293eb83e1868', 2)\",\"('series-groupby-sum--first-eb32de3f04c56b836aa4293eb83e1868', 4)\",\"('series-groupby-sum--first-eb32de3f04c56b836aa4293eb83e1868', 1)\",\"('series-groupby-sum--first-eb32de3f04c56b836aa4293eb83e1868', 0)\",\"('series-groupby-sum--first-eb32de3f04c56b836aa4293eb83e1868', 7)\",\"('series-groupby-sum--second-eb32de3f04c56b836aa4293eb83e1868', 0)\",\"('series-groupby-sum--first-eb32de3f04c56b836aa4293eb83e1868', 6)\",\"('series-groupby-sum--first-eb32de3f04c56b836aa4293eb83e1868', 3)\"],\"width\":[0.3388408520258963,0.29315405897796154,0.3389306543394923,0.34774573892354965,0.3448554268106818,0.3383429101668298,0.003941284026950598,0.3107905746437609,0.3391319131478667],\"x\":[0.1696985987946391,0.147448705509305,0.1696769641712308,0.17471391381695867,0.17321600764989853,0.169918199069798,0.3505701022222638,0.15571029391139746,0.16956595657393336],\"y\":[5,8,4,1,2,6,8,7,3]}},\"id\":\"f8d8cc30-73e5-40c7-a03d-4f01c73e2c05\",\"type\":\"ColumnDataSource\"},{\"attributes\":{\"line_alpha\":{\"value\":0.1},\"line_color\":{\"value\":\"#1f77b4\"},\"line_width\":{\"value\":4},\"x\":{\"field\":\"x\"},\"y\":{\"field\":\"y\"}},\"id\":\"e460c28f-be0e-4155-9f6a-4d9a73fbc306\",\"type\":\"Line\"},{\"attributes\":{\"axis_label\":\"Worker ID\",\"axis_line_color\":{\"value\":null},\"formatter\":{\"id\":\"72c76493-fa15-4dd6-9f97-7ed28a622034\",\"type\":\"CategoricalTickFormatter\"},\"major_tick_line_color\":{\"value\":null},\"plot\":{\"id\":\"6d2bfab8-128d-4eb0-aab3-58a8e4e7a9f3\",\"subtype\":\"Figure\",\"type\":\"Plot\"},\"ticker\":{\"id\":\"deb7d8e0-571e-4410-a3c0-577184ada9c3\",\"type\":\"CategoricalTicker\"}},\"id\":\"51ac3cf1-01f3-46bc-baaa-1749ebc82540\",\"type\":\"CategoricalAxis\"},{\"attributes\":{},\"id\":\"7d9431f8-d0ba-45e9-84bc-f052e98fd2c4\",\"type\":\"ToolEvents\"},{\"attributes\":{},\"id\":\"31d6dcb4-0e84-4d72-9a28-9b51bb8034fe\",\"type\":\"CategoricalTickFormatter\"},{\"attributes\":{\"axis_label\":\"Memory (MB)\",\"formatter\":{\"id\":\"c552f3b0-2b12-456c-9c2e-fe1f22816549\",\"type\":\"BasicTickFormatter\"},\"plot\":{\"id\":\"31f6fe22-5e07-4e3b-8e6d-995b970c229e\",\"subtype\":\"Figure\",\"type\":\"Plot\"},\"ticker\":{\"id\":\"4c01567d-a834-4134-960c-6e0d889b4320\",\"type\":\"BasicTicker\"},\"y_range_name\":\"memory\"},\"id\":\"dbc7302f-0678-4277-946f-a782bfb01959\",\"type\":\"LinearAxis\"},{\"attributes\":{\"callback\":null,\"column_names\":[\"y\",\"x\"],\"data\":{\"x\":[0.0,0.050578284077346325,0.10176358884200454,0.15219696890562773,0.20246144710108638,0.2542114690877497,0.30485498486086726],\"y\":[707.42016,751.673344,759.877632,765.169664,769.437696,780.537856,803.094528]}},\"id\":\"9cd1b223-65b4-4979-87f4-02716841ff4b\",\"type\":\"ColumnDataSource\"},{\"attributes\":{\"line_color\":{\"value\":\"#0868ac\"},\"line_width\":{\"value\":4},\"x\":{\"field\":\"x\"},\"y\":{\"field\":\"y\"}},\"id\":\"7b03877c-1c4d-49f4-a3a1-4821c797e860\",\"type\":\"Line\"},{\"attributes\":{\"axis_label\":\"Worker ID\",\"axis_line_color\":{\"value\":null},\"formatter\":{\"id\":\"31d6dcb4-0e84-4d72-9a28-9b51bb8034fe\",\"type\":\"CategoricalTickFormatter\"},\"major_tick_line_color\":{\"value\":null},\"plot\":{\"id\":\"b1106032-834a-44ea-a02f-0a37dda97358\",\"subtype\":\"Figure\",\"type\":\"Plot\"},\"ticker\":{\"id\":\"1254426d-996d-4983-8786-c42368980ccd\",\"type\":\"CategoricalTicker\"}},\"id\":\"39574b98-4a96-4242-b014-d58fbbe4f657\",\"type\":\"CategoricalAxis\"},{\"attributes\":{\"callback\":null,\"end\":803.094528,\"start\":707.42016},\"id\":\"558dd18d-9767-4df9-998e-abb8922f4121\",\"type\":\"Range1d\"},{\"attributes\":{\"plot\":{\"id\":\"31f6fe22-5e07-4e3b-8e6d-995b970c229e\",\"subtype\":\"Figure\",\"type\":\"Plot\"}},\"id\":\"69c4ea1e-dd77-45f9-b800-651bba19d1ee\",\"type\":\"ResetTool\"},{\"attributes\":{\"dimensions\":[\"width\"],\"plot\":{\"id\":\"31f6fe22-5e07-4e3b-8e6d-995b970c229e\",\"subtype\":\"Figure\",\"type\":\"Plot\"}},\"id\":\"d7493970-163d-493e-b3ec-61ef453ca1d8\",\"type\":\"PanTool\"},{\"attributes\":{\"grid_line_color\":{\"value\":null},\"plot\":{\"id\":\"6d2bfab8-128d-4eb0-aab3-58a8e4e7a9f3\",\"subtype\":\"Figure\",\"type\":\"Plot\"},\"ticker\":{\"id\":\"5dcdc259-7e77-402c-b8f3-8cb12379464e\",\"type\":\"BasicTicker\"}},\"id\":\"f803e8c9-3935-47fb-96e3-b3403960d636\",\"type\":\"Grid\"},{\"attributes\":{},\"id\":\"1793a721-90aa-49bb-a659-7dd05732ed42\",\"type\":\"BasicTicker\"},{\"attributes\":{},\"id\":\"4c01567d-a834-4134-960c-6e0d889b4320\",\"type\":\"BasicTicker\"},{\"attributes\":{\"callback\":null,\"end\":316.2},\"id\":\"ae561208-8a34-4d29-a71f-d5b1994e11b6\",\"type\":\"Range1d\"},{\"attributes\":{\"plot\":{\"id\":\"804915c2-14b0-48ab-9b2e-6af2de413984\",\"subtype\":\"Figure\",\"type\":\"Plot\"},\"ticker\":{\"id\":\"1a1c2aca-47fc-45ac-a045-81447a8dbf3c\",\"type\":\"BasicTicker\"}},\"id\":\"c80745f1-fcc1-489b-a434-e1048e78e234\",\"type\":\"Grid\"},{\"attributes\":{},\"id\":\"bd2315cf-f0f6-4c56-b47d-6766c40e2eea\",\"type\":\"BasicTicker\"},{\"attributes\":{\"callback\":null,\"factors\":[\"0\",\"1\",\"2\",\"3\",\"4\",\"5\",\"6\",\"7\"]},\"id\":\"0e3cabd7-9445-4595-bea7-4105f27347ef\",\"type\":\"FactorRange\"},{\"attributes\":{},\"id\":\"1254426d-996d-4983-8786-c42368980ccd\",\"type\":\"CategoricalTicker\"},{\"attributes\":{\"line_alpha\":{\"value\":0.1},\"line_color\":{\"value\":\"#1f77b4\"},\"line_width\":{\"value\":4},\"x\":{\"field\":\"x\"},\"y\":{\"field\":\"y\"}},\"id\":\"8a1725e5-3d61-4d17-bf1b-551057727f8a\",\"type\":\"Line\"},{\"attributes\":{},\"id\":\"548fe03b-9376-4d6c-8150-487b4d4f523f\",\"type\":\"BasicTicker\"},{\"attributes\":{\"dimension\":1,\"plot\":{\"id\":\"804915c2-14b0-48ab-9b2e-6af2de413984\",\"subtype\":\"Figure\",\"type\":\"Plot\"},\"ticker\":{\"id\":\"1793a721-90aa-49bb-a659-7dd05732ed42\",\"type\":\"BasicTicker\"}},\"id\":\"ae8e13a7-d77d-43db-b65d-412d94fe3843\",\"type\":\"Grid\"},{\"attributes\":{\"data_source\":{\"id\":\"9cd1b223-65b4-4979-87f4-02716841ff4b\",\"type\":\"ColumnDataSource\"},\"glyph\":{\"id\":\"ca221631-e03d-420a-9983-ebcd82776321\",\"type\":\"Line\"},\"hover_glyph\":null,\"nonselection_glyph\":{\"id\":\"8a1725e5-3d61-4d17-bf1b-551057727f8a\",\"type\":\"Line\"},\"selection_glyph\":null,\"y_range_name\":\"memory\"},\"id\":\"f0bcae14-acb3-4a2c-a87c-48879c970de3\",\"type\":\"GlyphRenderer\"},{\"attributes\":{},\"id\":\"f7a2a40f-6b14-40b2-b3bd-3c208b944850\",\"type\":\"BasicTickFormatter\"},{\"attributes\":{\"grid_line_color\":{\"value\":null},\"plot\":{\"id\":\"b1106032-834a-44ea-a02f-0a37dda97358\",\"subtype\":\"Figure\",\"type\":\"Plot\"},\"ticker\":{\"id\":\"548fe03b-9376-4d6c-8150-487b4d4f523f\",\"type\":\"BasicTicker\"}},\"id\":\"0068f0b5-216d-4460-ae94-94f9c7ab0ed5\",\"type\":\"Grid\"},{\"attributes\":{\"line_color\":{\"value\":\"#7bccc4\"},\"line_width\":{\"value\":4},\"x\":{\"field\":\"x\"},\"y\":{\"field\":\"y\"}},\"id\":\"9bbb6b9c-b27d-4c6d-bdc1-335f51cfb884\",\"type\":\"Line\"},{\"attributes\":{},\"id\":\"e9ed6706-d2c9-4e0d-81e8-40f080ba722e\",\"type\":\"BasicTickFormatter\"},{\"attributes\":{\"plot\":{\"id\":\"6d2bfab8-128d-4eb0-aab3-58a8e4e7a9f3\",\"subtype\":\"Figure\",\"type\":\"Plot\"}},\"id\":\"af54f72a-a0f7-4851-8c64-11c4ceed433f\",\"type\":\"ResetTool\"},{\"attributes\":{},\"id\":\"e549f4cd-7985-422a-a28f-2fc8f350b987\",\"type\":\"BasicTicker\"},{\"attributes\":{\"legends\":[[\"% CPU\",[{\"id\":\"bc321b15-41b5-40dd-a1ca-1745f7aa77bc\",\"type\":\"GlyphRenderer\"}]],[\"Memory\",[{\"id\":\"cb26e4f6-9f79-4429-b89a-fc8447d4db71\",\"type\":\"GlyphRenderer\"}]]],\"plot\":{\"id\":\"804915c2-14b0-48ab-9b2e-6af2de413984\",\"subtype\":\"Figure\",\"type\":\"Plot\"}},\"id\":\"019d31c1-dffd-4401-910b-5bfe4ec21bff\",\"type\":\"Legend\"},{\"attributes\":{\"below\":[{\"id\":\"0bd3eab5-bd9d-427b-8dd7-f11328d3c21e\",\"type\":\"LinearAxis\"}],\"extra_y_ranges\":{\"memory\":{\"id\":\"c7214da1-99ff-4cab-ad87-bee45f0ff573\",\"type\":\"Range1d\"}},\"left\":[{\"id\":\"97b92084-0d70-46e8-a74c-444549beb471\",\"type\":\"LinearAxis\"}],\"min_border_left\":75,\"min_border_right\":75,\"min_border_top\":20,\"plot_height\":300,\"plot_width\":800,\"renderers\":[{\"id\":\"0bd3eab5-bd9d-427b-8dd7-f11328d3c21e\",\"type\":\"LinearAxis\"},{\"id\":\"f91109b0-1aef-4c69-a64a-f946aaeef8c5\",\"type\":\"Grid\"},{\"id\":\"97b92084-0d70-46e8-a74c-444549beb471\",\"type\":\"LinearAxis\"},{\"id\":\"170e6032-73cb-49ba-b77a-d021f16f37d2\",\"type\":\"Grid\"},{\"id\":\"46ae6382-9388-47c1-a762-84bdb21c173d\",\"type\":\"Legend\"},{\"id\":\"75fc3874-e19a-4c13-82b4-c1a1551c554d\",\"type\":\"GlyphRenderer\"},{\"id\":\"f0bcae14-acb3-4a2c-a87c-48879c970de3\",\"type\":\"GlyphRenderer\"},{\"id\":\"dbc7302f-0678-4277-946f-a782bfb01959\",\"type\":\"LinearAxis\"}],\"right\":[{\"id\":\"dbc7302f-0678-4277-946f-a782bfb01959\",\"type\":\"LinearAxis\"}],\"title\":null,\"tool_events\":{\"id\":\"69f22090-68ee-4833-9274-078ac5129a7f\",\"type\":\"ToolEvents\"},\"tools\":[{\"id\":\"c864d4a3-2590-4754-94a4-4eba3ae9fd66\",\"type\":\"PreviewSaveTool\"},{\"id\":\"69c4ea1e-dd77-45f9-b800-651bba19d1ee\",\"type\":\"ResetTool\"},{\"id\":\"04d75ea9-77e5-4111-9bd6-30ad479a3196\",\"type\":\"ResizeTool\"},{\"id\":\"82f7c857-35c7-4e5c-bd87-3889d4f57b5c\",\"type\":\"WheelZoomTool\"},{\"id\":\"d7493970-163d-493e-b3ec-61ef453ca1d8\",\"type\":\"PanTool\"}],\"x_range\":{\"id\":\"6e088849-bc20-49a5-89f3-43c352d033d4\",\"type\":\"Range1d\"},\"y_range\":{\"id\":\"ae561208-8a34-4d29-a71f-d5b1994e11b6\",\"type\":\"Range1d\"}},\"id\":\"31f6fe22-5e07-4e3b-8e6d-995b970c229e\",\"subtype\":\"Figure\",\"type\":\"Plot\"},{\"attributes\":{\"data_source\":{\"id\":\"f8d8cc30-73e5-40c7-a03d-4f01c73e2c05\",\"type\":\"ColumnDataSource\"},\"glyph\":{\"id\":\"6e6320e4-0b87-4a64-981e-ce2043b98b91\",\"type\":\"Rect\"},\"hover_glyph\":null,\"nonselection_glyph\":{\"id\":\"43251ad1-0b42-40a0-b0a8-486d5d47c44f\",\"type\":\"Rect\"},\"selection_glyph\":null},\"id\":\"a9238d25-6e8f-4398-a464-01466fe0b94f\",\"type\":\"GlyphRenderer\"},{\"attributes\":{\"children\":[[{\"id\":\"b1106032-834a-44ea-a02f-0a37dda97358\",\"subtype\":\"Figure\",\"type\":\"Plot\"}],[{\"id\":\"804915c2-14b0-48ab-9b2e-6af2de413984\",\"subtype\":\"Figure\",\"type\":\"Plot\"}]]},\"id\":\"0a9f4e82-07ec-4ace-bea3-a1f20d90159f\",\"type\":\"GridPlot\"},{\"attributes\":{},\"id\":\"72c76493-fa15-4dd6-9f97-7ed28a622034\",\"type\":\"CategoricalTickFormatter\"},{\"attributes\":{\"dimensions\":[\"width\"],\"plot\":{\"id\":\"31f6fe22-5e07-4e3b-8e6d-995b970c229e\",\"subtype\":\"Figure\",\"type\":\"Plot\"}},\"id\":\"82f7c857-35c7-4e5c-bd87-3889d4f57b5c\",\"type\":\"WheelZoomTool\"},{\"attributes\":{\"dimension\":1,\"plot\":{\"id\":\"31f6fe22-5e07-4e3b-8e6d-995b970c229e\",\"subtype\":\"Figure\",\"type\":\"Plot\"},\"ticker\":{\"id\":\"6bb1101b-d4fa-4f0a-8c9e-6634643a922b\",\"type\":\"BasicTicker\"}},\"id\":\"170e6032-73cb-49ba-b77a-d021f16f37d2\",\"type\":\"Grid\"},{\"attributes\":{},\"id\":\"4fc8c508-969d-4e02-b8ef-871f815fbc51\",\"type\":\"ToolEvents\"},{\"attributes\":{},\"id\":\"c72f4027-436b-4faa-833e-7100a4fbb611\",\"type\":\"BasicTickFormatter\"},{\"attributes\":{\"below\":[{\"id\":\"879989db-67cc-4147-901e-7ca686bfe533\",\"type\":\"LinearAxis\"}],\"left\":[{\"id\":\"39574b98-4a96-4242-b014-d58fbbe4f657\",\"type\":\"CategoricalAxis\"}],\"min_border_bottom\":20,\"min_border_left\":75,\"min_border_right\":75,\"plot_height\":300,\"plot_width\":800,\"renderers\":[{\"id\":\"879989db-67cc-4147-901e-7ca686bfe533\",\"type\":\"LinearAxis\"},{\"id\":\"0068f0b5-216d-4460-ae94-94f9c7ab0ed5\",\"type\":\"Grid\"},{\"id\":\"39574b98-4a96-4242-b014-d58fbbe4f657\",\"type\":\"CategoricalAxis\"},{\"id\":\"b5dba964-2218-4a65-8c79-b95ae97b74a7\",\"type\":\"Grid\"},{\"id\":\"a9238d25-6e8f-4398-a464-01466fe0b94f\",\"type\":\"GlyphRenderer\"}],\"title\":\"Profile Results\",\"tool_events\":{\"id\":\"4fc8c508-969d-4e02-b8ef-871f815fbc51\",\"type\":\"ToolEvents\"},\"tools\":[{\"id\":\"b0da908e-5c6b-4fdc-bd2b-76768bbba17d\",\"type\":\"HoverTool\"},{\"id\":\"2887a36c-f1b9-4889-a3dd-fceaa09b709f\",\"type\":\"PreviewSaveTool\"},{\"id\":\"5c759655-f5ce-454a-9e26-d10ac98835f1\",\"type\":\"ResetTool\"},{\"id\":\"27358b91-378b-4f42-ba81-5f62c2acd1f0\",\"type\":\"ResizeTool\"},{\"id\":\"038495e6-05f9-4a22-b484-c666dccb8e62\",\"type\":\"WheelZoomTool\"},{\"id\":\"879add4a-db8d-434d-801c-cc15d9812897\",\"type\":\"PanTool\"}],\"x_range\":{\"id\":\"9114f0d4-bb7e-4651-b09f-9ff0e5a92ed1\",\"type\":\"Range1d\"},\"y_range\":{\"id\":\"00e18673-5779-4fcd-a87b-254ece6333e9\",\"type\":\"FactorRange\"}},\"id\":\"b1106032-834a-44ea-a02f-0a37dda97358\",\"subtype\":\"Figure\",\"type\":\"Plot\"},{\"attributes\":{\"callback\":null,\"column_names\":[\"y\",\"x\"],\"data\":{\"x\":[0.0,0.050578284077346325,0.10176358884200454,0.15219696890562773,0.20246144710108638,0.2542114690877497,0.30485498486086726],\"y\":[707.42016,751.673344,759.877632,765.169664,769.437696,780.537856,803.094528]}},\"id\":\"350a1848-76cf-455f-a954-69701db7a148\",\"type\":\"ColumnDataSource\"},{\"attributes\":{\"dimensions\":[\"width\"],\"plot\":{\"id\":\"6d2bfab8-128d-4eb0-aab3-58a8e4e7a9f3\",\"subtype\":\"Figure\",\"type\":\"Plot\"}},\"id\":\"f42165be-554e-40d9-86a9-aa284a65fa47\",\"type\":\"WheelZoomTool\"},{\"attributes\":{\"below\":[{\"id\":\"cbcd8e64-4f7a-4530-a213-6006154a8695\",\"type\":\"LinearAxis\"}],\"left\":[{\"id\":\"51ac3cf1-01f3-46bc-baaa-1749ebc82540\",\"type\":\"CategoricalAxis\"}],\"min_border_bottom\":20,\"min_border_left\":75,\"min_border_right\":75,\"plot_height\":300,\"plot_width\":800,\"renderers\":[{\"id\":\"cbcd8e64-4f7a-4530-a213-6006154a8695\",\"type\":\"LinearAxis\"},{\"id\":\"f803e8c9-3935-47fb-96e3-b3403960d636\",\"type\":\"Grid\"},{\"id\":\"51ac3cf1-01f3-46bc-baaa-1749ebc82540\",\"type\":\"CategoricalAxis\"},{\"id\":\"1ba47680-58ed-4911-a0b0-c4f58e161735\",\"type\":\"Grid\"},{\"id\":\"311b702b-d114-46b1-8285-86c747491423\",\"type\":\"GlyphRenderer\"}],\"title\":\"Profile Results\",\"tool_events\":{\"id\":\"a0355847-dc5c-4e56-a457-cb13c4706a53\",\"type\":\"ToolEvents\"},\"tools\":[{\"id\":\"f25128c0-a2f2-44cc-9111-898d18c5df1f\",\"type\":\"HoverTool\"},{\"id\":\"735e17e9-9fc2-41fc-9f7b-f7c539a19ec5\",\"type\":\"PreviewSaveTool\"},{\"id\":\"af54f72a-a0f7-4851-8c64-11c4ceed433f\",\"type\":\"ResetTool\"},{\"id\":\"978aee79-a585-4fda-9d58-0068abde02f7\",\"type\":\"ResizeTool\"},{\"id\":\"f42165be-554e-40d9-86a9-aa284a65fa47\",\"type\":\"WheelZoomTool\"},{\"id\":\"cdcbaaab-c60d-4f74-99f2-b80917f4fd52\",\"type\":\"PanTool\"}],\"x_range\":{\"id\":\"6e088849-bc20-49a5-89f3-43c352d033d4\",\"type\":\"Range1d\"},\"y_range\":{\"id\":\"0e3cabd7-9445-4595-bea7-4105f27347ef\",\"type\":\"FactorRange\"}},\"id\":\"6d2bfab8-128d-4eb0-aab3-58a8e4e7a9f3\",\"subtype\":\"Figure\",\"type\":\"Plot\"}],\"root_ids\":[\"0a9f4e82-07ec-4ace-bea3-a1f20d90159f\",\"ea466429-e039-4e6e-88f7-85e378c9a30a\"]},\"title\":\"Bokeh Application\",\"version\":\"0.11.1\"}};\n",
       "            var render_items = [{\"docid\":\"53b192b2-d366-43ea-9a08-3e7e4f222377\",\"elementid\":\"d7d5cc0e-3e1f-4aec-8820-25e295765b8b\",\"modelid\":\"ea466429-e039-4e6e-88f7-85e378c9a30a\",\"notebook_comms_target\":\"81a72c22-2a8c-4850-a39b-c56abcf2cd5e\"}];\n",
       "            \n",
       "            Bokeh.embed.embed_items(docs_json, render_items);\n",
       "        });\n",
       "      },\n",
       "      function(Bokeh) {\n",
       "      }\n",
       "    ];\n",
       "  \n",
       "    function run_inline_js() {\n",
       "      for (var i = 0; i < inline_js.length; i++) {\n",
       "        inline_js[i](window.Bokeh);\n",
       "      }\n",
       "    }\n",
       "  \n",
       "    if (window._bokeh_is_loading === 0) {\n",
       "      console.log(\"Bokeh: BokehJS loaded, going straight to plotting\");\n",
       "      run_inline_js();\n",
       "    } else {\n",
       "      load_libs(js_urls, function() {\n",
       "        console.log(\"Bokeh: BokehJS plotting callback run at\", now());\n",
       "        run_inline_js();\n",
       "      });\n",
       "    }\n",
       "  }(this));\n",
       "</script>"
      ]
     },
     "metadata": {},
     "output_type": "display_data"
    },
    {
     "data": {
      "text/plain": [
       "<bokeh.models.plots.GridPlot at 0x124459e48>"
      ]
     },
     "execution_count": 53,
     "metadata": {},
     "output_type": "execute_result"
    }
   ],
   "source": [
    "from dask.diagnostics import visualize\n",
    "from bokeh.io import output_notebook\n",
    "from bokeh.resources import CDN\n",
    "output_notebook(CDN, hide_banner=True)\n",
    "visualize([prof, rprof])"
   ]
  }
 ],
 "metadata": {
  "celltoolbar": "Slideshow",
  "kernelspec": {
   "display_name": "Talks",
   "language": "python",
   "name": "talk"
  },
  "language_info": {
   "codemirror_mode": {
    "name": "ipython",
    "version": 3
   },
   "file_extension": ".py",
   "mimetype": "text/x-python",
   "name": "python",
   "nbconvert_exporter": "python",
   "pygments_lexer": "ipython3",
   "version": "3.5.1"
  }
 },
 "nbformat": 4,
 "nbformat_minor": 0
}
